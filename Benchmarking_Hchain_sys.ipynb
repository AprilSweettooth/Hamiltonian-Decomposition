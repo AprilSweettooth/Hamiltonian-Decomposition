{
 "cells": [
  {
   "cell_type": "markdown",
   "metadata": {},
   "source": [
    "# Import"
   ]
  },
  {
   "cell_type": "code",
   "execution_count": 1,
   "metadata": {},
   "outputs": [],
   "source": [
    "from qDrift.hamsimqDrift import AlgorithmHamSimqDrift\n",
    "from pytket.circuit import Circuit\n",
    "from openfermion.utils.operator_utils import count_qubits\n",
    "\n",
    "from utils.func import *\n",
    "from utils.term_grouping import *\n",
    "from utils.min_clique import *\n",
    "from utils.hamlib import *\n",
    "from utils.evol_real import *\n",
    "from utils.plot import *\n",
    "from utils.driver import *\n",
    "from utils.JW import *\n",
    "\n",
    "from Pauli_Gadgets.paulis import *\n",
    "\n",
    "import functools as ft\n",
    "import numpy as np\n",
    "import matplotlib.pyplot as plt\n",
    "\n",
    "def gen_sys_param(n, sample_steps=100000, N=1):\n",
    "    global t_max\n",
    "    global initial_state_circ\n",
    "    global n_qdrift_steps\n",
    "    global sample_space\n",
    "    global seg\n",
    "    global t_list\n",
    "    global error_threshold\n",
    "\n",
    "    t_list = [0.5,1,2,5]\n",
    "    t_max = t_list[-1]\n",
    "    seg = N\n",
    "    error_threshold = 1e-3\n",
    "    initial_state_circ = Circuit(n)\n",
    "    for i in range(n):\n",
    "        initial_state_circ.H(i)\n",
    "    n_qdrift_steps = sample_steps\n",
    "    sample_space = np.arange(0,sample_steps+1,1)"
   ]
  },
  {
   "cell_type": "markdown",
   "metadata": {},
   "source": [
    "# Hydrogen chain"
   ]
  },
  {
   "cell_type": "code",
   "execution_count": 2,
   "metadata": {},
   "outputs": [],
   "source": [
    "def Hchain(n=3):\n",
    "    driver = PySCFDriver_custom()\n",
    "    bond_length = 1.0\n",
    "    n_sites = n\n",
    "    driver.load_molecule(\n",
    "        atom=[('H', (0, 0, i * bond_length)) for i in range(n_sites)], # Create a molecular data object for the hydrogen chain\n",
    "        basis=\"sto-3g\",          # Basis set for quantum chemistry calculation\n",
    "        multiplicity=n_sites%2,          # Spin multiplicity for molecule, since the total spin of H2O is S=0，its spin multiplicity is 2S+1=1\n",
    "        charge=0,                 # Total charge of molecule, since H2O is charge neutral, its charge=0\n",
    "        unit=\"Angstrom\"\n",
    "    )\n",
    "    driver.run_scf()             # Perform Hartree Fock calculation\n",
    "\n",
    "    # np.set_printoptions(precision=4, linewidth=150)\n",
    "\n",
    "    hpq = driver.get_onebody_tensor(\"int1e_kin\") + driver.get_onebody_tensor(\"int1e_nuc\")\n",
    "    vpqrs = driver.get_twobody_tensor()\n",
    "    # assert np.shape(hpq)==(7, 7)             # H2O has 7 orbitals when using STO-3G basis.\n",
    "    # assert np.shape(vpqrs)==(7, 7, 7, 7)\n",
    "\n",
    "    # print(hpq)\n",
    "    operator = get_molecular_hamiltonian(hpq,vpqrs,driver)\n",
    "    n_qubits = count_qubits(operator)\n",
    "    number, coulomb, hopping, no_excitation, double_excitation = JW_transformation(operator)\n",
    "    numbers, coulombs, hoppings, no_excitations, double_excitations = JW_transformation(operator,True)\n",
    "\n",
    "    number_op, number_co = convert_op_to_input(number,n_qubits)\n",
    "    hopping_op, hopping_co = convert_op_to_input(hopping,n_qubits)\n",
    "    coulomb_op, coulomb_co = convert_op_to_input(coulomb,n_qubits)\n",
    "    no_excitation_op, no_excitation_co = convert_op_to_input(no_excitation,n_qubits)\n",
    "    double_excitation_op, double_excitation_co = convert_op_to_input(double_excitation,n_qubits)\n",
    "\n",
    "    numbers_op, numbers_co = convert_op_to_input(numbers,n_qubits,True)\n",
    "    hoppings_op, hoppings_co = convert_twobody_op_to_input(hoppings,n_qubits,True)\n",
    "    coulombs_op, coulombs_co = convert_op_to_input(list(coulombs),n_qubits,True)\n",
    "    no_excitations_op, no_excitations_co = convert_twobody_op_to_input(list(no_excitations),n_qubits,True)\n",
    "    double_excitations_op, double_excitations_co = convert_twobody_op_to_input(list(double_excitations),n_qubits,True)\n",
    "\n",
    "    max_part_group, max_coeff = [numbers_op+hoppings_op+coulombs_op+no_excitations_op+double_excitations_op], [numbers_co+hoppings_co+coulombs_co+no_excitations_co+double_excitations_co]\n",
    "\n",
    "    H_matrix = get_Hmatrix(number_op+hopping_op+coulomb_op+no_excitation_op+double_excitation_op,n_qubits,number_co+hopping_co+coulomb_co+no_excitation_co+double_excitation_co)\n",
    "    return max_part_group[0],max_coeff[0],H_matrix,[[h] for h in number_op+hopping_op+coulomb_op+no_excitation_op+double_excitation_op],[[c] for c in number_co+hopping_co+coulomb_co+no_excitation_co+double_excitation_co],n_qubits"
   ]
  },
  {
   "cell_type": "code",
   "execution_count": 3,
   "metadata": {},
   "outputs": [],
   "source": [
    "physDrift = []\n",
    "qDrift = []"
   ]
  },
  {
   "cell_type": "code",
   "execution_count": 4,
   "metadata": {},
   "outputs": [
    {
     "name": "stdout",
     "output_type": "stream",
     "text": [
      "converged SCF energy = -1.52399620024611\n"
     ]
    },
    {
     "name": "stderr",
     "output_type": "stream",
     "text": [
      "/usr/local/lib/python3.11/site-packages/pyscf/gto/mole.py:1215: UserWarning: Function mol.dumps drops attribute spin because it is not JSON-serializable\n",
      "  warnings.warn(msg)\n"
     ]
    },
    {
     "ename": "",
     "evalue": "",
     "output_type": "error",
     "traceback": [
      "\u001b[1;31mCannot execute code, session has been disposed. Please try restarting the Kernel."
     ]
    },
    {
     "ename": "",
     "evalue": "",
     "output_type": "error",
     "traceback": [
      "\u001b[1;31mThe Kernel crashed while executing code in the the current cell or a previous cell. Please review the code in the cell(s) to identify a possible cause of the failure. Click <a href='https://aka.ms/vscodeJupyterKernelCrash'>here</a> for more info. View Jupyter <a href='command:jupyter.viewOutput'>log</a> for further details."
     ]
    }
   ],
   "source": [
    "for sysSize in np.arange(3,6):\n",
    "    for N in [4000,8000]:\n",
    "        phyV,phyC,H,qV,qC,n = Hchain(sysSize)\n",
    "        secdepth = np.arange(0,(N+1)*142,142)\n",
    "\n",
    "        gen_sys_param(n=n,sample_steps=secdepth[-1])\n",
    "\n",
    "        drift_time_evolution = AlgorithmHamSimqDrift(initial_state_circ,phyV,phyC,t_max,n_qdrift_steps,seg,M=3,noise=True)\n",
    "        Um,sm,mdepth = drift_time_evolution.Drift_exp(depth=secdepth[-1], cheat=True)\n",
    "        Um= [[Um[j][0][i] for i in range(len(Um[j][0]))] for j in range(len(Um))]\n",
    "\n",
    "        drift_time_evolution_parity = AlgorithmHamSimqDrift(initial_state_circ,qV,qC,t_max,n_qdrift_steps,seg,M=3,noise=True)\n",
    "        Uq,sq,qdepth = drift_time_evolution_parity.Drift_exp(depth=secdepth[-1], cheat=True)\n",
    "        Uq= [[Uq[j][0][i] for i in range(len(Uq[j][0]))] for j in range(len(Uq))]\n",
    "\n",
    "        Uexc = U_exc(drift_time_evolution.circuit.get_unitary(),n_qdrift_steps,t_max, H)\n",
    "        uexc = extract_U_at_t(t_list,Uexc,secdepth)\n",
    "\n",
    "        um = [extract_U_at_t(t_list,Um[i],secdepth) for i in range(len(Um))]\n",
    "        um_spec = [[np.abs(linalg.eig(u - u_exc)[0]).max() for u,u_exc in zip(um[i],uexc)] for i in range(len(um))]\n",
    "        uq = [extract_U_at_t(t_list,Uq[i],secdepth) for i in range(len(Uq))]\n",
    "        uq_spec = [[np.abs(linalg.eig(u - u_exc)[0]).max() for u,u_exc in zip(uq[i],uexc)] for i in range(len(uq))]\n",
    "\n",
    "        physDrift.append(np.mean(um_spec,axis=0))\n",
    "        qDrift.append(np.mean(uq_spec,axis=0))\n",
    "        print(np.mean(um_spec,axis=0),np.mean(uq_spec,axis=0))\n",
    "# [0.         0.00300629 0.00358299 0.00510126 0.0076013 ] [0.         0.00517473 0.00565317 0.00696613 0.00820971]"
   ]
  },
  {
   "cell_type": "code",
   "execution_count": null,
   "metadata": {},
   "outputs": [
    {
     "name": "stdout",
     "output_type": "stream",
     "text": [
      "converged SCF energy = -1.52399620024611\n",
      "[0.         0.00284426 0.00420528 0.00498851 0.00733986] [0.         0.00408325 0.00438779 0.0048988  0.00529032]\n"
     ]
    }
   ],
   "source": [
    "# phyV,phyC,H,qV,qC,n = Hchain(3)\n",
    "# N = 1000\n",
    "# secdepth = np.arange(0,(N+1)*142,142)\n",
    "\n",
    "# gen_sys_param(n=n,sample_steps=secdepth[-1])\n",
    "\n",
    "# drift_time_evolution = AlgorithmHamSimqDrift(initial_state_circ,phyV,phyC,t_max,n_qdrift_steps,seg,M=3,noise=True)\n",
    "# Um,sm,mdepth = drift_time_evolution.Drift_exp(depth=secdepth[-1], cheat=True)\n",
    "# Um= [[Um[j][0][i] for i in range(len(Um[j][0]))] for j in range(len(Um))]\n",
    "\n",
    "# drift_time_evolution_parity = AlgorithmHamSimqDrift(initial_state_circ,qV,qC,t_max,n_qdrift_steps,seg,M=3,noise=True)\n",
    "# Uq,sq,qdepth = drift_time_evolution_parity.Drift_exp(depth=secdepth[-1], cheat=True)\n",
    "# Uq= [[Uq[j][0][i] for i in range(len(Uq[j][0]))] for j in range(len(Uq))]\n",
    "\n",
    "# Uexc = U_exc(drift_time_evolution.circuit.get_unitary(),n_qdrift_steps,t_max, H)\n",
    "# uexc = extract_U_at_t(t_list,Uexc,secdepth)\n",
    "\n",
    "# um = [extract_U_at_t(t_list,Um[i],secdepth) for i in range(len(Um))]\n",
    "# um_spec = [[np.abs(linalg.eig(u - u_exc)[0]).max() for u,u_exc in zip(um[i],uexc)] for i in range(len(um))]\n",
    "# uq = [extract_U_at_t(t_list,Uq[i],secdepth) for i in range(len(Uq))]\n",
    "# uq_spec = [[np.abs(linalg.eig(u - u_exc)[0]).max() for u,u_exc in zip(uq[i],uexc)] for i in range(len(uq))]\n",
    "\n",
    "# print(np.mean(um_spec,axis=0),np.mean(uq_spec,axis=0))"
   ]
  }
 ],
 "metadata": {
  "kernelspec": {
   "display_name": "Python 3",
   "language": "python",
   "name": "python3"
  },
  "language_info": {
   "codemirror_mode": {
    "name": "ipython",
    "version": 3
   },
   "file_extension": ".py",
   "mimetype": "text/x-python",
   "name": "python",
   "nbconvert_exporter": "python",
   "pygments_lexer": "ipython3",
   "version": "3.11.4"
  },
  "orig_nbformat": 4
 },
 "nbformat": 4,
 "nbformat_minor": 2
}
