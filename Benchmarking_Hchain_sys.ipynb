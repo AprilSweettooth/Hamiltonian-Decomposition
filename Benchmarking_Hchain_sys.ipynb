{
 "cells": [
  {
   "cell_type": "markdown",
   "metadata": {},
   "source": [
    "# Import"
   ]
  },
  {
   "cell_type": "code",
   "execution_count": 17,
   "metadata": {},
   "outputs": [],
   "source": [
    "from qDrift.hamsimqDrift import AlgorithmHamSimqDrift\n",
    "from pytket.circuit import Circuit\n",
    "from openfermion.utils.operator_utils import count_qubits\n",
    "\n",
    "from utils.func import *\n",
    "from utils.term_grouping import *\n",
    "from utils.min_clique import *\n",
    "from utils.hamlib import *\n",
    "from utils.evol_real import *\n",
    "from utils.plot import *\n",
    "from utils.driver import *\n",
    "from utils.JW import *\n",
    "\n",
    "from Pauli_Gadgets.paulis import *\n",
    "\n",
    "import functools as ft\n",
    "import numpy as np\n",
    "import matplotlib.pyplot as plt\n",
    "\n",
    "def gen_sys_param(n, sample_steps=100000, N=1):\n",
    "    global t_max\n",
    "    global initial_state_circ\n",
    "    global n_qdrift_steps\n",
    "    global sample_space\n",
    "    global seg\n",
    "    global t_list\n",
    "\n",
    "    t_max = 1\n",
    "    seg = N\n",
    "    initial_state_circ = Circuit(n)\n",
    "    for i in range(n):\n",
    "        initial_state_circ.H(i)\n",
    "    n_qdrift_steps = sample_steps\n",
    "    sample_space = np.arange(0,sample_steps+1,1)"
   ]
  },
  {
   "cell_type": "markdown",
   "metadata": {},
   "source": [
    "# Hydrogen chain"
   ]
  },
  {
   "cell_type": "code",
   "execution_count": 18,
   "metadata": {},
   "outputs": [],
   "source": [
    "def Hchain(n=3):\n",
    "    driver = PySCFDriver_custom()\n",
    "    bond_length = 1.0\n",
    "    n_sites = n\n",
    "    driver.load_molecule(\n",
    "        atom=[('H', (0, 0, i * bond_length)) for i in range(n_sites)], # Create a molecular data object for the hydrogen chain\n",
    "        basis=\"sto-3g\",          # Basis set for quantum chemistry calculation\n",
    "        multiplicity=n_sites%2,          # Spin multiplicity for molecule, since the total spin of H2O is S=0，its spin multiplicity is 2S+1=1\n",
    "        charge=0,                 # Total charge of molecule, since H2O is charge neutral, its charge=0\n",
    "        unit=\"Angstrom\"\n",
    "    )\n",
    "    driver.run_scf()             # Perform Hartree Fock calculation\n",
    "\n",
    "    # np.set_printoptions(precision=4, linewidth=150)\n",
    "\n",
    "    hpq = driver.get_onebody_tensor(\"int1e_kin\") + driver.get_onebody_tensor(\"int1e_nuc\")\n",
    "    vpqrs = driver.get_twobody_tensor()\n",
    "    # assert np.shape(hpq)==(7, 7)             # H2O has 7 orbitals when using STO-3G basis.\n",
    "    # assert np.shape(vpqrs)==(7, 7, 7, 7)\n",
    "\n",
    "    # print(hpq)\n",
    "    operator = get_molecular_hamiltonian(hpq,vpqrs,driver)\n",
    "    n_qubits = count_qubits(operator)\n",
    "    number, coulomb, hopping, no_excitation, double_excitation = JW_transformation(operator)\n",
    "    numbers, coulombs, hoppings, no_excitations, double_excitations = JW_transformation(operator,True)\n",
    "\n",
    "    number_op, number_co = convert_op_to_input(number,n_qubits)\n",
    "    hopping_op, hopping_co = convert_op_to_input(hopping,n_qubits)\n",
    "    coulomb_op, coulomb_co = convert_op_to_input(coulomb,n_qubits)\n",
    "    no_excitation_op, no_excitation_co = convert_op_to_input(no_excitation,n_qubits)\n",
    "    double_excitation_op, double_excitation_co = convert_op_to_input(double_excitation,n_qubits)\n",
    "\n",
    "    numbers_op, numbers_co = convert_op_to_input(numbers,n_qubits,True)\n",
    "    hoppings_op, hoppings_co = convert_twobody_op_to_input(hoppings,n_qubits,True)\n",
    "    coulombs_op, coulombs_co = convert_op_to_input(list(coulombs),n_qubits,True)\n",
    "    no_excitations_op, no_excitations_co = convert_twobody_op_to_input(list(no_excitations),n_qubits,True)\n",
    "    double_excitations_op, double_excitations_co = convert_twobody_op_to_input(list(double_excitations),n_qubits,True)\n",
    "\n",
    "    max_part_group, max_coeff = [numbers_op+hoppings_op+coulombs_op+no_excitations_op+double_excitations_op], [numbers_co+hoppings_co+coulombs_co+no_excitations_co+double_excitations_co]\n",
    "\n",
    "    H_matrix = get_Hmatrix(number_op+hopping_op+coulomb_op+no_excitation_op+double_excitation_op,n_qubits,number_co+hopping_co+coulomb_co+no_excitation_co+double_excitation_co)\n",
    "    return max_part_group[0],max_coeff[0],H_matrix,number_op+hopping_op+coulomb_op+no_excitation_op+double_excitation_op,number_co+hopping_co+coulomb_co+no_excitation_co+double_excitation_co,n_qubits"
   ]
  },
  {
   "cell_type": "code",
   "execution_count": 23,
   "metadata": {},
   "outputs": [
    {
     "name": "stdout",
     "output_type": "stream",
     "text": [
      "converged SCF energy = -2.09854593699772\n"
     ]
    }
   ],
   "source": [
    "a,b,c,d,e,n = Hchain(4)\n",
    "N = 100000"
   ]
  },
  {
   "cell_type": "code",
   "execution_count": 24,
   "metadata": {},
   "outputs": [
    {
     "ename": "",
     "evalue": "",
     "output_type": "error",
     "traceback": [
      "\u001b[1;31mCannot execute code, session has been disposed. Please try restarting the Kernel."
     ]
    },
    {
     "ename": "",
     "evalue": "",
     "output_type": "error",
     "traceback": [
      "\u001b[1;31mThe Kernel crashed while executing code in the the current cell or a previous cell. Please review the code in the cell(s) to identify a possible cause of the failure. Click <a href='https://aka.ms/vscodeJupyterKernelCrash'>here</a> for more info. View Jupyter <a href='command:jupyter.viewOutput'>log</a> for further details."
     ]
    }
   ],
   "source": [
    "gen_sys_param(n=n,sample_steps=N)\n",
    "drift_time_evolution = AlgorithmHamSimqDrift(initial_state_circ,a,b,t_max,n_qdrift_steps,seg,M=1)\n",
    "Uexc = U_exc(drift_time_evolution.circuit.get_unitary(),n_qdrift_steps,t_max, c,True)\n",
    "Um, Uq = [], []\n",
    "for i in range(1):\n",
    "    drift_time_evolution = AlgorithmHamSimqDrift(initial_state_circ,a,b,t_max,n_qdrift_steps,seg,M=1)\n",
    "    u, _, _ = drift_time_evolution.Drift_exp(depth=N,cheat=True)\n",
    "    Um.append(u)\n",
    "for i in range(1):\n",
    "    drift_time_evolution = AlgorithmHamSimqDrift(initial_state_circ,[[D] for D in d],[[E] for E in e],t_max,n_qdrift_steps,seg,M=1)\n",
    "    u,_,_ = drift_time_evolution.Drift_exp(depth=N,cheat=True)\n",
    "    Uq.append(u)\n",
    "errorm = np.abs(linalg.eig(ft.reduce(np.add,Um[0][0]) - Uexc)[0]).max()\n",
    "errorq = np.abs(linalg.eig(ft.reduce(np.add,Uq[0][0]) - Uexc)[0]).max()"
   ]
  },
  {
   "cell_type": "code",
   "execution_count": null,
   "metadata": {},
   "outputs": [
    {
     "name": "stdout",
     "output_type": "stream",
     "text": [
      "1.393330400815556 0.7141724194516282\n"
     ]
    }
   ],
   "source": [
    "print(errorm,errorq)"
   ]
  },
  {
   "cell_type": "code",
   "execution_count": 22,
   "metadata": {},
   "outputs": [],
   "source": [
    "# import random\n",
    "# gen_sys_param(n=n,sample_steps=N)\n",
    "# drift_time_evolution = AlgorithmHamSimqDrift(initial_state_circ,a,b,t_max,n_qdrift_steps,seg,M=1)\n",
    "# Uexc = U_exc(drift_time_evolution.circuit.get_unitary(),n_qdrift_steps,t_max, c,True)\n",
    "# Um, Uq = [], []\n",
    "# drift_time_evolution = AlgorithmHamSimqDrift(initial_state_circ,a,b,t_max,n_qdrift_steps,seg,M=1)\n",
    "# u, sm = drift_time_evolution.Drift_exp(depth=N,cheat=True)\n",
    "# Um.append(u)\n",
    "# for i in range(4):\n",
    "#     temp = list(zip(sm[0],sm[1]))\n",
    "#     random.shuffle(temp)\n",
    "#     # np.random.permutation(temp)\n",
    "#     v, c = zip(*temp)\n",
    "#     # res1 and res2 come out as tuples, and so must be converted to lists.\n",
    "#     v, c = list(v), list(c)\n",
    "#     # print(c)\n",
    "#     u = drift_time_evolution.Drift_exp(sampled=[v,c,sm[-1]],depth=N,cheat=True)\n",
    "#     Um.append(u)\n",
    "# for i in range(3):\n",
    "#     drift_time_evolution = AlgorithmHamSimqDrift(initial_state_circ,[[D] for D in d],[[E] for E in e],t_max,n_qdrift_steps,seg,M=1)\n",
    "#     u, _ = drift_time_evolution.Drift_exp(depth=N,cheat=True)\n",
    "#     Uq.append(u)\n",
    "# errorm = np.abs(linalg.eig(ft.reduce(np.add,Um)/5 - Uexc)[0]).max()\n",
    "# errorq = np.abs(linalg.eig(ft.reduce(np.add,Uq)/3 - Uexc)[0]).max()"
   ]
  }
 ],
 "metadata": {
  "kernelspec": {
   "display_name": "Python 3",
   "language": "python",
   "name": "python3"
  },
  "language_info": {
   "codemirror_mode": {
    "name": "ipython",
    "version": 3
   },
   "file_extension": ".py",
   "mimetype": "text/x-python",
   "name": "python",
   "nbconvert_exporter": "python",
   "pygments_lexer": "ipython3",
   "version": "3.11.4"
  },
  "orig_nbformat": 4
 },
 "nbformat": 4,
 "nbformat_minor": 2
}
