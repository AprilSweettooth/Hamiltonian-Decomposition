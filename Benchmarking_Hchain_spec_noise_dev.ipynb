{
 "cells": [
  {
   "cell_type": "markdown",
   "metadata": {},
   "source": [
    "# Import"
   ]
  },
  {
   "cell_type": "code",
   "execution_count": 1,
   "metadata": {},
   "outputs": [],
   "source": [
    "from qDrift.hamsimqDrift import AlgorithmHamSimqDrift\n",
    "from pytket.circuit import Circuit\n",
    "from openfermion.utils.operator_utils import count_qubits\n",
    "\n",
    "from utils.func import *\n",
    "from utils.term_grouping import *\n",
    "from utils.min_clique import *\n",
    "from utils.hamlib import *\n",
    "from utils.evol_real import *\n",
    "from utils.plot import *\n",
    "from utils.driver import *\n",
    "from utils.JW import *\n",
    "\n",
    "from Pauli_Gadgets.paulis import *\n",
    "\n",
    "import numpy as np\n",
    "import matplotlib.pyplot as plt\n",
    "\n",
    "def gen_sys_param(n=10, sample_steps=100000, N=1):\n",
    "    global t_max\n",
    "    global initial_state_circ\n",
    "    global n_qdrift_steps\n",
    "    global sample_space\n",
    "    global seg\n",
    "    global t_list\n",
    "\n",
    "    t_list = [1,2,5,8]\n",
    "    t_max=t_list[-1]\n",
    "    seg = N\n",
    "    initial_state_circ = Circuit(n)\n",
    "    for i in range(n):\n",
    "        initial_state_circ.H(i)\n",
    "    n_qdrift_steps = sample_steps\n",
    "    sample_space = np.arange(0,sample_steps+1,1)"
   ]
  },
  {
   "cell_type": "markdown",
   "metadata": {},
   "source": [
    "# Hydrogen chain"
   ]
  },
  {
   "cell_type": "code",
   "execution_count": 2,
   "metadata": {},
   "outputs": [
    {
     "name": "stdout",
     "output_type": "stream",
     "text": [
      "converged SCF energy = -1.52399620024611\n"
     ]
    }
   ],
   "source": [
    "driver = PySCFDriver_custom()\n",
    "bond_length = 1.0\n",
    "n_sites = 3\n",
    "driver.load_molecule(\n",
    "    atom=[('H', (0, 0, i * bond_length)) for i in range(n_sites)], # Create a molecular data object for the hydrogen chain\n",
    "    basis=\"sto-3g\",          # Basis set for quantum chemistry calculation\n",
    "    multiplicity=1,          # Spin multiplicity for molecule, since the total spin of H2O is S=0，its spin multiplicity is 2S+1=1\n",
    "    charge=0,                 # Total charge of molecule, since H2O is charge neutral, its charge=0\n",
    "    unit=\"Angstrom\"\n",
    ")\n",
    "driver.run_scf()             # Perform Hartree Fock calculation\n",
    "\n",
    "# np.set_printoptions(precision=4, linewidth=150)\n",
    "\n",
    "hpq = driver.get_onebody_tensor(\"int1e_kin\") + driver.get_onebody_tensor(\"int1e_nuc\")\n",
    "vpqrs = driver.get_twobody_tensor()\n",
    "# assert np.shape(hpq)==(7, 7)             # H2O has 7 orbitals when using STO-3G basis.\n",
    "# assert np.shape(vpqrs)==(7, 7, 7, 7)\n",
    "\n",
    "# print(hpq)\n",
    "operator = get_molecular_hamiltonian(hpq,vpqrs,driver)\n",
    "n_qubits = count_qubits(operator)\n",
    "number, coulomb, hopping, no_excitation, double_excitation = JW_transformation(operator)\n",
    "numbers, coulombs, hoppings, no_excitations, double_excitations = JW_transformation(operator,True)\n",
    "\n",
    "number_op, number_co = convert_op_to_input(number,n_qubits)\n",
    "hopping_op, hopping_co = convert_op_to_input(hopping,n_qubits)\n",
    "coulomb_op, coulomb_co = convert_op_to_input(coulomb,n_qubits)\n",
    "no_excitation_op, no_excitation_co = convert_op_to_input(no_excitation,n_qubits)\n",
    "double_excitation_op, double_excitation_co = convert_op_to_input(double_excitation,n_qubits)\n",
    "\n",
    "numbers_op, numbers_co = convert_op_to_input(numbers,n_qubits,True)\n",
    "hoppings_op, hoppings_co = convert_twobody_op_to_input(hoppings,n_qubits,True)\n",
    "coulombs_op, coulombs_co = convert_op_to_input(list(coulombs),n_qubits,True)\n",
    "no_excitations_op, no_excitations_co = convert_twobody_op_to_input(list(no_excitations),n_qubits,True)\n",
    "double_excitations_op, double_excitations_co = convert_twobody_op_to_input(list(double_excitations),n_qubits,True)\n",
    "\n",
    "# max_part_group = [[number_op[0], number_op[-2],hopping_op[0], hopping_op[1]],number_op[2:4],[number_op[1], number_op[-1], hopping_op[-2],hopping_op[-1]]]+coulombs_op+no_excitations_op+double_excitations_op\n",
    "# max_coeff = [[(number_co[0]+number_co[-2]+abs(hopping_co[0])*2)/4],[number_co[2]],[(number_co[0]+number_co[-2]+abs(hopping_co[0])*2)/4]]+coulombs_co+no_excitations_co+double_excitations_co\n",
    "# max_part_group, max_coeff = site_excitation_group(numbers_op,hoppings_op,numbers_co,hoppings_co)\n",
    "\n",
    "H_matrix = get_Hmatrix(number_op+hopping_op+coulomb_op+no_excitation_op+double_excitation_op,n_qubits,number_co+hopping_co+coulomb_co+no_excitation_co+double_excitation_co)"
   ]
  },
  {
   "cell_type": "code",
   "execution_count": 2,
   "metadata": {},
   "outputs": [],
   "source": [
    "H_matrix, H_ops_orig, H_coeff_orig, H_ops, H_coeff = Heisenberg(3,1)"
   ]
  },
  {
   "cell_type": "code",
   "execution_count": 15,
   "metadata": {},
   "outputs": [],
   "source": [
    "gen_sys_param(n=3,sample_steps=100)\n",
    "drift_time_evolution = AlgorithmHamSimqDrift(initial_state_circ,[h[0] for h in H_ops_orig],[h[0] for h in H_coeff_orig],t_max,n_qdrift_steps,seg)\n",
    "U2p,secdepth = drift_time_evolution.trotter(order=2, protected=True, spectral=True)"
   ]
  },
  {
   "cell_type": "code",
   "execution_count": 4,
   "metadata": {},
   "outputs": [],
   "source": [
    "gen_sys_param(n=3,sample_steps=100)\n",
    "drift_time_evolution = AlgorithmHamSimqDrift(initial_state_circ,[h[0] for h in H_ops_orig],[h[0] for h in H_coeff_orig],t_max,n_qdrift_steps,seg)\n",
    "U2,secdepth = drift_time_evolution.trotter(order=2)"
   ]
  },
  {
   "cell_type": "code",
   "execution_count": 5,
   "metadata": {},
   "outputs": [],
   "source": [
    "Uexc = U_exc(drift_time_evolution.circuit.get_unitary(),n_qdrift_steps,t_max, H_matrix)\n",
    "uexc = extract_U_at_t(t_list,Uexc,np.arange(secdepth[-1]))"
   ]
  },
  {
   "cell_type": "code",
   "execution_count": 16,
   "metadata": {},
   "outputs": [
    {
     "data": {
      "text/plain": [
       "array([ 0.14888466+0.40964901j, -0.02294719+0.24391489j,\n",
       "        0.14888466+0.40964901j, -0.02294719+0.24391489j,\n",
       "        0.14888466+0.40964901j, -0.02294719+0.24391489j,\n",
       "        0.14888466+0.40964901j, -0.02294719+0.24391489j])"
      ]
     },
     "execution_count": 16,
     "metadata": {},
     "output_type": "execute_result"
    }
   ],
   "source": [
    "U2[0][0]"
   ]
  },
  {
   "cell_type": "code",
   "execution_count": 6,
   "metadata": {},
   "outputs": [
    {
     "ename": "IndexError",
     "evalue": "list index out of range",
     "output_type": "error",
     "traceback": [
      "\u001b[0;31m---------------------------------------------------------------------------\u001b[0m",
      "\u001b[0;31mIndexError\u001b[0m                                Traceback (most recent call last)",
      "Cell \u001b[0;32mIn[6], line 1\u001b[0m\n\u001b[0;32m----> 1\u001b[0m plt\u001b[39m.\u001b[39mplot([\u001b[39m0\u001b[39m]\u001b[39m+\u001b[39mt_list,[np\u001b[39m.\u001b[39mabs(linalg\u001b[39m.\u001b[39meig(u \u001b[39m-\u001b[39m u_exc)[\u001b[39m0\u001b[39m])\u001b[39m.\u001b[39mmax() \u001b[39mfor\u001b[39;00m u,u_exc \u001b[39min\u001b[39;00m \u001b[39mzip\u001b[39m(extract_U_at_t(t_list,U2p,secdepth),uexc)])\n\u001b[1;32m      2\u001b[0m plt\u001b[39m.\u001b[39mplot([\u001b[39m0\u001b[39m]\u001b[39m+\u001b[39mt_list,[np\u001b[39m.\u001b[39mabs(linalg\u001b[39m.\u001b[39meig(u \u001b[39m-\u001b[39m u_exc)[\u001b[39m0\u001b[39m])\u001b[39m.\u001b[39mmax() \u001b[39mfor\u001b[39;00m u,u_exc \u001b[39min\u001b[39;00m \u001b[39mzip\u001b[39m(extract_U_at_t(t_list,U2,secdepth),uexc)])\n",
      "File \u001b[0;32m~/Downloads/Hamiltonian-Decomposition/utils/func.py:123\u001b[0m, in \u001b[0;36mextract_U_at_t\u001b[0;34m(t, U, depth)\u001b[0m\n\u001b[1;32m    121\u001b[0m \u001b[39mfor\u001b[39;00m i \u001b[39min\u001b[39;00m \u001b[39mrange\u001b[39m(\u001b[39mlen\u001b[39m(t)):\n\u001b[1;32m    122\u001b[0m     idx \u001b[39m=\u001b[39m \u001b[39mint\u001b[39m(t[i] \u001b[39m/\u001b[39m t_step)\n\u001b[0;32m--> 123\u001b[0m     U_new\u001b[39m.\u001b[39mappend(U[search_U_with_no_exp(idx,depth)])\n\u001b[1;32m    124\u001b[0m \u001b[39mreturn\u001b[39;00m U_new\n",
      "\u001b[0;31mIndexError\u001b[0m: list index out of range"
     ]
    }
   ],
   "source": [
    "plt.plot([0]+t_list,[np.abs(linalg.eig(u - u_exc)[0]).max() for u,u_exc in zip(extract_U_at_t(t_list,U2p,secdepth),uexc)])\n",
    "plt.plot([0]+t_list,[np.abs(linalg.eig(u - u_exc)[0]).max() for u,u_exc in zip(extract_U_at_t(t_list,U2,secdepth),uexc)])"
   ]
  },
  {
   "cell_type": "code",
   "execution_count": 3,
   "metadata": {},
   "outputs": [],
   "source": [
    "U2p_overall = []\n",
    "for i in range(3):\n",
    "    gen_sys_param(n=n_qubits,sample_steps=100)\n",
    "    drift_time_evolution = AlgorithmHamSimqDrift(initial_state_circ,number_op+hopping_op+coulomb_op+no_excitation_op+double_excitation_op,number_co+hopping_co+coulomb_co+no_excitation_co+double_excitation_co,t_max,n_qdrift_steps,seg,noise=True)\n",
    "    U2p,secdepth = drift_time_evolution.trotter(order=2, protected=True, cheat=True)\n",
    "    U2p_overall.append(U2p)"
   ]
  },
  {
   "cell_type": "code",
   "execution_count": null,
   "metadata": {},
   "outputs": [],
   "source": [
    "Ut_overall = []\n",
    "for i in range(3):\n",
    "    gen_sys_param(n=n_qubits,sample_steps=200)\n",
    "    drift_time_evolution = AlgorithmHamSimqDrift(initial_state_circ,number_op+hopping_op+coulomb_op+no_excitation_op+double_excitation_op,number_co+hopping_co+coulomb_co+no_excitation_co+double_excitation_co,t_max,n_qdrift_steps,seg,noise=True)\n",
    "    Ut,ldepth = drift_time_evolution.trotter(cheat=True)\n",
    "    Ut_overall.append(Ut)"
   ]
  },
  {
   "cell_type": "code",
   "execution_count": 7,
   "metadata": {},
   "outputs": [],
   "source": [
    "U2_overall = []\n",
    "for i in range(3):\n",
    "    gen_sys_param(n=n_qubits,sample_steps=100)\n",
    "    drift_time_evolution = AlgorithmHamSimqDrift(initial_state_circ,number_op+hopping_op+coulomb_op+no_excitation_op+double_excitation_op,number_co+hopping_co+coulomb_co+no_excitation_co+double_excitation_co,t_max,n_qdrift_steps,seg,noise=True)\n",
    "    U2,secdepth = drift_time_evolution.trotter(order=2,cheat=True)\n",
    "    U2_overall.append(U2)"
   ]
  },
  {
   "cell_type": "code",
   "execution_count": 8,
   "metadata": {},
   "outputs": [],
   "source": [
    "Urp_overall = []\n",
    "for i in range(3): \n",
    "    gen_sys_param(n=n_qubits,sample_steps=100)\n",
    "    drift_time_evolution = AlgorithmHamSimqDrift(initial_state_circ,number_op+hopping_op+coulomb_op+no_excitation_op+double_excitation_op,number_co+hopping_co+coulomb_co+no_excitation_co+double_excitation_co,t_max,n_qdrift_steps,seg,noise=True)\n",
    "    Urp,rpdepth = drift_time_evolution.trotter(rand=True,cheat=True)\n",
    "    Urp_overall.append(Urp)"
   ]
  },
  {
   "cell_type": "code",
   "execution_count": 50,
   "metadata": {},
   "outputs": [],
   "source": [
    "gen_sys_param(n=n_qubits,sample_steps=secdepth[-1])\n",
    "drift_time_evolution = AlgorithmHamSimqDrift(initial_state_circ,numbers_op+hoppings_op+coulombs_op+no_excitations_op+double_excitations_op,numbers_co+hoppings_co+coulombs_co+no_excitations_co+double_excitations_co,t_max,n_qdrift_steps,seg,M=3,noise=True)\n",
    "Um,sm,mdepth = drift_time_evolution.Drift_exp(depth=secdepth[-1],cheat=True)\n",
    "Um_overall = []\n",
    "Um_overall.append(Um)\n",
    "for i in range(2):\n",
    "    gen_sys_param(n=n_qubits,sample_steps=secdepth[-1])\n",
    "    drift_time_evolution = AlgorithmHamSimqDrift(initial_state_circ,numbers_op+hoppings_op+coulombs_op+no_excitations_op+double_excitations_op,numbers_co+hoppings_co+coulombs_co+no_excitations_co+double_excitations_co,t_max,n_qdrift_steps,seg,M=3,noise=True)\n",
    "    Um,_,_ = drift_time_evolution.Drift_exp(sampled=sm,depth=secdepth[-1],cheat=True) \n",
    "    Um_overall.append(Um)"
   ]
  },
  {
   "cell_type": "code",
   "execution_count": 47,
   "metadata": {},
   "outputs": [],
   "source": [
    "Um_overall = [[Um_overall[j][0][i] for i in range(len(Um_overall[j][0]))] for j in range(len(Um_overall))]\n",
    "mdepth = [[mdepth[j][0][i] for i in range(len(mdepth[j][0]))] for j in range(len(mdepth))]"
   ]
  },
  {
   "cell_type": "code",
   "execution_count": 49,
   "metadata": {},
   "outputs": [],
   "source": [
    "gen_sys_param(n=n_qubits,sample_steps=secdepth[-1])\n",
    "drift_time_evolution_parity = AlgorithmHamSimqDrift(initial_state_circ,[[h] for h in number_op+hopping_op+coulomb_op+no_excitation_op+double_excitation_op],[[c] for c in number_co+hopping_co+coulomb_co+no_excitation_co+double_excitation_co],t_max,n_qdrift_steps,seg,M=3,noise=True)\n",
    "Uq,sq,qdepth = drift_time_evolution_parity.Drift_exp(depth=secdepth[-1],cheat=True)\n",
    "Uq_overall = []\n",
    "Uq_overall.append(Uq)\n",
    "for i in range(2):\n",
    "    gen_sys_param(n=n_qubits,sample_steps=secdepth[-1])\n",
    "    drift_time_evolution = AlgorithmHamSimqDrift(initial_state_circ,[[h] for h in number_op+hopping_op+coulomb_op+no_excitation_op+double_excitation_op],[[c] for c in number_co+hopping_co+coulomb_co+no_excitation_co+double_excitation_co],t_max,n_qdrift_steps,seg,M=3,noise=True)\n",
    "    Uq,_,_ = drift_time_evolution.Drift_exp(sampled=sq,depth=secdepth[-1],cheat=True) \n",
    "    Uq_overall.append(Uq)"
   ]
  },
  {
   "cell_type": "code",
   "execution_count": 18,
   "metadata": {},
   "outputs": [],
   "source": [
    "Um_overall = [[Um_overall[j][0][i] for i in range(len(Um_overall[j][0]))] for j in range(len(Um_overall))]\n",
    "mdepth = [[mdepth[j][0][i] for i in range(len(mdepth[j][0]))] for j in range(len(mdepth))]"
   ]
  },
  {
   "cell_type": "code",
   "execution_count": 11,
   "metadata": {},
   "outputs": [],
   "source": [
    "gen_sys_param(n=n_qubits,sample_steps=secdepth[-1])\n",
    "drift_time_evolution = AlgorithmHamSimqDrift(initial_state_circ,numbers_op+hoppings_op+coulombs_op+no_excitations_op+double_excitations_op,numbers_co+hoppings_co+coulombs_co+no_excitations_co+double_excitations_co,t_max,n_qdrift_steps,seg,M=3,noise=True)\n",
    "Um,sm,mdepth = drift_time_evolution.Drift_exp(depth=secdepth[-1],abs_coeff=True,cheat=True)\n",
    "Um_overall = []\n",
    "Um_overall.append(Um)\n",
    "for i in range(2):\n",
    "    gen_sys_param(n=n_qubits,sample_steps=secdepth[-1])\n",
    "    drift_time_evolution = AlgorithmHamSimqDrift(initial_state_circ,numbers_op+hoppings_op+coulombs_op+no_excitations_op+double_excitations_op,numbers_co+hoppings_co+coulombs_co+no_excitations_co+double_excitations_co,t_max,n_qdrift_steps,seg,M=3,noise=True)\n",
    "    Um,_,_ = drift_time_evolution.Drift_exp(sampled=sm,depth=secdepth[-1],cheat=True) \n",
    "    Um_overall.append(Um)"
   ]
  },
  {
   "cell_type": "code",
   "execution_count": 51,
   "metadata": {},
   "outputs": [
    {
     "data": {
      "text/plain": [
       "3"
      ]
     },
     "execution_count": 51,
     "metadata": {},
     "output_type": "execute_result"
    }
   ],
   "source": [
    "len(Um_overall)"
   ]
  },
  {
   "cell_type": "code",
   "execution_count": 12,
   "metadata": {},
   "outputs": [],
   "source": [
    "gen_sys_param(n=n_qubits,sample_steps=ldepth[-1])\n",
    "Uexc = U_exc(drift_time_evolution.circuit.get_unitary(),n_qdrift_steps,t_max, H_matrix)"
   ]
  },
  {
   "cell_type": "code",
   "execution_count": 13,
   "metadata": {},
   "outputs": [],
   "source": [
    "uexc = extract_U_at_t(t_list,Uexc,np.arange(secdepth[-1]))\n",
    "def cal_noise_std(U, Ur):\n",
    "    u_noise = []\n",
    "    for u in U:\n",
    "        u_t = extract_U_at_t(t_list,u,secdepth)\n",
    "        u_noise.append([np.abs(linalg.eig(u - u_exc)[0]).max() for u,u_exc in zip(u_t,Ur)])\n",
    "    u_noise_mean, u_noise_std = np.mean(u_noise,axis=0),np.std(u_noise,axis=0) \n",
    "    return u_noise_mean, u_noise_std "
   ]
  },
  {
   "cell_type": "code",
   "execution_count": 14,
   "metadata": {},
   "outputs": [],
   "source": [
    "u2p_m, u2p_s = cal_noise_std(U2p_overall,uexc)\n",
    "ut_m, ut_s = cal_noise_std(Ut_overall,uexc)\n",
    "u2_m, u2_s = cal_noise_std(U2_overall,uexc)\n",
    "urp_m, urp_s = cal_noise_std(Urp_overall,uexc)"
   ]
  },
  {
   "cell_type": "code",
   "execution_count": 19,
   "metadata": {},
   "outputs": [
    {
     "ename": "IndexError",
     "evalue": "list index out of range",
     "output_type": "error",
     "traceback": [
      "\u001b[0;31m---------------------------------------------------------------------------\u001b[0m",
      "\u001b[0;31mIndexError\u001b[0m                                Traceback (most recent call last)",
      "Cell \u001b[0;32mIn[19], line 8\u001b[0m\n\u001b[1;32m      6\u001b[0m q_stds \u001b[39m=\u001b[39m []\n\u001b[1;32m      7\u001b[0m \u001b[39mfor\u001b[39;00m i \u001b[39min\u001b[39;00m \u001b[39mrange\u001b[39m(\u001b[39m3\u001b[39m):\n\u001b[0;32m----> 8\u001b[0m     m_mean,m_std \u001b[39m=\u001b[39m Monte_Carlo_ave(t_list,Um_overall[i],mdepth,uexc,M\u001b[39m=\u001b[39;49m\u001b[39m3\u001b[39;49m)\n\u001b[1;32m      9\u001b[0m     \u001b[39m# g_mean,g_std = Monte_Carlo_ave(t_list,Ug_overall[i],gdepth,uexc,M=3)\u001b[39;00m\n\u001b[1;32m     10\u001b[0m     q_mean,q_std \u001b[39m=\u001b[39m Monte_Carlo_ave(t_list,Uq_overall[i],qdepth,uexc,M\u001b[39m=\u001b[39m\u001b[39m3\u001b[39m)\n",
      "File \u001b[0;32m~/Downloads/Hamiltonian-Decomposition/utils/func.py:130\u001b[0m, in \u001b[0;36mMonte_Carlo_ave\u001b[0;34m(t, U, depth, Ur, M)\u001b[0m\n\u001b[1;32m    128\u001b[0m U_mean \u001b[39m=\u001b[39m []\n\u001b[1;32m    129\u001b[0m \u001b[39mfor\u001b[39;00m i \u001b[39min\u001b[39;00m \u001b[39mrange\u001b[39m(M):\n\u001b[0;32m--> 130\u001b[0m     U_new\u001b[39m.\u001b[39mappend(extract_U_at_t(t,U[i],depth[i]))\n\u001b[1;32m    131\u001b[0m \u001b[39mfor\u001b[39;00m j \u001b[39min\u001b[39;00m \u001b[39mrange\u001b[39m(M):\n\u001b[1;32m    132\u001b[0m     U_mean\u001b[39m.\u001b[39mappend([np\u001b[39m.\u001b[39mabs(linalg\u001b[39m.\u001b[39meig(u \u001b[39m-\u001b[39m u_exc)[\u001b[39m0\u001b[39m])\u001b[39m.\u001b[39mmax() \u001b[39mfor\u001b[39;00m u,u_exc \u001b[39min\u001b[39;00m \u001b[39mzip\u001b[39m(U_new[j],Ur)])\n",
      "\u001b[0;31mIndexError\u001b[0m: list index out of range"
     ]
    }
   ],
   "source": [
    "m_means = []\n",
    "m_stds = []\n",
    "g_means = []\n",
    "g_stds = []\n",
    "q_means = []\n",
    "q_stds = []\n",
    "for i in range(3):\n",
    "    m_mean,m_std = Monte_Carlo_ave(t_list,Um_overall[i],mdepth,uexc,M=3)\n",
    "    # g_mean,g_std = Monte_Carlo_ave(t_list,Ug_overall[i],gdepth,uexc,M=3)\n",
    "    q_mean,q_std = Monte_Carlo_ave(t_list,Uq_overall[i],qdepth,uexc,M=3)\n",
    "    m_means.append(m_mean)\n",
    "    m_stds.append(m_std)\n",
    "    # g_means.append(g_mean)\n",
    "    # g_stds.append(g_std)\n",
    "    q_means.append(q_mean)\n",
    "    q_stds.append(q_std)\n",
    "m_noise_mean, m_noise_std = np.mean(m_means,axis=0),np.std(m_means,axis=0) \n",
    "_, m_noise_std_x = np.mean(m_stds,axis=0),np.std(m_stds,axis=0)\n",
    "# g_noise_mean, g_noise_std = np.mean(g_means,axis=0),np.std(g_means,axis=0) \n",
    "# _, g_noise_std_x = np.mean(g_stds,axis=0),np.std(g_stds,axis=0) \n",
    "q_noise_mean, q_noise_std = np.mean(q_means,axis=0),np.std(q_means,axis=0) \n",
    "_, q_noise_std_x = np.mean(q_stds,axis=0),np.std(q_stds,axis=0)  "
   ]
  },
  {
   "cell_type": "code",
   "execution_count": 20,
   "metadata": {},
   "outputs": [],
   "source": [
    "def cal_noise_std_drift(U, Ur, t, depth, secdepth):\n",
    "    u_noise = []\n",
    "    t_step = t[-1]/depth[0][-1]\n",
    "    depth_new = [[depth[i][0]] for i in range(len(depth))]\n",
    "    for i in range(len(depth)):\n",
    "        for j in range(len(t)):\n",
    "            idx = int(t[j] / t_step)\n",
    "            depth_new[i].append(depth[i][search_U_with_no_exp(idx,depth[i])])\n",
    "    for i in range(len(U)):\n",
    "        for u in U[i]:\n",
    "            u_t = extract_U_at_t(t_list,u,secdepth)\n",
    "            Urt = [Ur[depth_new[i][j]] for j in range(len(depth_new[i]))]\n",
    "            u_noise.append([np.abs(linalg.eig(u - u_exc)[0]).max() for u,u_exc in zip(u_t,Urt)])\n",
    "    u_noise_mean, u_noise_std = np.mean(u_noise,axis=0),np.std(u_noise,axis=0) \n",
    "    return u_noise_mean, u_noise_std \n",
    "    # return u_noise"
   ]
  },
  {
   "cell_type": "code",
   "execution_count": 21,
   "metadata": {},
   "outputs": [],
   "source": [
    "uum_mean,uum_std = cal_noise_std_drift(Um_overall, Uexc, t_list, mdepth, secdepth)"
   ]
  },
  {
   "cell_type": "code",
   "execution_count": 22,
   "metadata": {},
   "outputs": [],
   "source": [
    "def extract_depth_at_t(t,depth):\n",
    "    t_step = t[-1]/depth[0][-1]\n",
    "    depth_new = [[depth[i][0]] for i in range(len(depth))]\n",
    "    for i in range(len(depth)):\n",
    "        for j in range(len(t)):\n",
    "            idx = int(t[j] / t_step)\n",
    "            depth_new[i].append(depth[i][search_U_with_no_exp(idx,depth[i])])\n",
    "    mean, std = np.mean(depth_new,axis=0), np.std(depth_new,axis=0)\n",
    "    xerror = [(s/(m+0.0001))*T for s,m,T in zip(std,mean,[0]+t)]\n",
    "    return xerror"
   ]
  },
  {
   "cell_type": "code",
   "execution_count": 23,
   "metadata": {},
   "outputs": [
    {
     "ename": "TypeError",
     "evalue": "unsupported operand type(s) for /: 'int' and 'list'",
     "output_type": "error",
     "traceback": [
      "\u001b[0;31m---------------------------------------------------------------------------\u001b[0m",
      "\u001b[0;31mTypeError\u001b[0m                                 Traceback (most recent call last)",
      "Cell \u001b[0;32mIn[23], line 1\u001b[0m\n\u001b[0;32m----> 1\u001b[0m uuq_mean,uuq_std \u001b[39m=\u001b[39m cal_noise_std_drift(Uq_overall, Uexc, t_list, qdepth, secdepth)\n",
      "Cell \u001b[0;32mIn[20], line 3\u001b[0m, in \u001b[0;36mcal_noise_std_drift\u001b[0;34m(U, Ur, t, depth, secdepth)\u001b[0m\n\u001b[1;32m      1\u001b[0m \u001b[39mdef\u001b[39;00m \u001b[39mcal_noise_std_drift\u001b[39m(U, Ur, t, depth, secdepth):\n\u001b[1;32m      2\u001b[0m     u_noise \u001b[39m=\u001b[39m []\n\u001b[0;32m----> 3\u001b[0m     t_step \u001b[39m=\u001b[39m t[\u001b[39m-\u001b[39;49m\u001b[39m1\u001b[39;49m]\u001b[39m/\u001b[39;49mdepth[\u001b[39m0\u001b[39;49m][\u001b[39m-\u001b[39;49m\u001b[39m1\u001b[39;49m]\n\u001b[1;32m      4\u001b[0m     depth_new \u001b[39m=\u001b[39m [[depth[i][\u001b[39m0\u001b[39m]] \u001b[39mfor\u001b[39;00m i \u001b[39min\u001b[39;00m \u001b[39mrange\u001b[39m(\u001b[39mlen\u001b[39m(depth))]\n\u001b[1;32m      5\u001b[0m     \u001b[39mfor\u001b[39;00m i \u001b[39min\u001b[39;00m \u001b[39mrange\u001b[39m(\u001b[39mlen\u001b[39m(depth)):\n",
      "\u001b[0;31mTypeError\u001b[0m: unsupported operand type(s) for /: 'int' and 'list'"
     ]
    }
   ],
   "source": [
    "uuq_mean,uuq_std = cal_noise_std_drift(Uq_overall, Uexc, t_list, qdepth, secdepth)"
   ]
  },
  {
   "cell_type": "code",
   "execution_count": null,
   "metadata": {},
   "outputs": [
    {
     "data": {
      "text/plain": [
       "<matplotlib.legend.Legend at 0x155eb7290>"
      ]
     },
     "execution_count": 60,
     "metadata": {},
     "output_type": "execute_result"
    },
    {
     "data": {
      "image/png": "[encoded data removed]",
      "text/plain": [
       "<Figure size 640x480 with 1 Axes>"
      ]
     },
     "metadata": {},
     "output_type": "display_data"
    }
   ],
   "source": [
    "plt.errorbar([0]+t_list,uum_mean ,yerr=uum_std, xerr=extract_depth_at_t(t_list,mdepth), label='group by site',ls='none')\n",
    "plt.title('spectral error over different final time with depolarising error')\n",
    "plt.xlabel('t_max')\n",
    "plt.ylabel('spectral error') \n",
    "plt.legend()"
   ]
  },
  {
   "cell_type": "code",
   "execution_count": null,
   "metadata": {},
   "outputs": [
    {
     "data": {
      "text/plain": [
       "<matplotlib.legend.Legend at 0x152f677d0>"
      ]
     },
     "execution_count": 54,
     "metadata": {},
     "output_type": "execute_result"
    },
    {
     "data": {
      "image/png": "[encoded data removed]",
      "text/plain": [
       "<Figure size 640x480 with 1 Axes>"
      ]
     },
     "metadata": {},
     "output_type": "display_data"
    }
   ],
   "source": [
    "plt.errorbar([0]+t_list,uuq_mean ,yerr=uuq_std, xerr=extract_depth_at_t(t_list,qdepth), label='qdrift',ls='none')\n",
    "plt.title('spectral error over different final time with depolarising error')\n",
    "plt.xlabel('t_max')\n",
    "plt.ylabel('spectral error') \n",
    "plt.legend()"
   ]
  },
  {
   "cell_type": "code",
   "execution_count": null,
   "metadata": {},
   "outputs": [
    {
     "data": {
      "text/plain": [
       "<matplotlib.legend.Legend at 0x14e51a350>"
      ]
     },
     "execution_count": 15,
     "metadata": {},
     "output_type": "execute_result"
    },
    {
     "data": {
      "image/png": "[encoded data removed]",
      "text/plain": [
       "<Figure size 640x480 with 1 Axes>"
      ]
     },
     "metadata": {},
     "output_type": "display_data"
    }
   ],
   "source": [
    "# plt.scatter([0]+t_list,u2p_m,label='second protection')\n",
    "# plt.scatter([0]+t_list,ut_m,label='lie')\n",
    "# plt.scatter([0]+t_list,u2_m,label='second')\n",
    "# plt.scatter([0]+t_list,urp_m,label='rand perm')\n",
    "# plt.scatter([0]+t_list,m_noise_mean,label='group by sites')\n",
    "# plt.scatter([0]+t_list,g_noise_mean,label='group by particle_no')\n",
    "# plt.scatter([0]+t_list,q_noise_mean,label='qdrift')\n",
    "plt.errorbar([0]+t_list,u2p_m ,yerr=u2p_s,label='second protection',ls='none')\n",
    "plt.errorbar([0]+t_list,ut_m ,yerr=ut_s,label='lie',ls='none')\n",
    "plt.errorbar([0]+t_list,u2_m ,yerr=u2_s,label='second',ls='none')\n",
    "plt.errorbar([0]+t_list,urp_m ,yerr=urp_s,label='rand perm',ls='none')\n",
    "plt.errorbar([0]+t_list,m_noise_mean ,yerr=m_noise_std, xerr=m_noise_std_x, label='group by sites',ls='none')\n",
    "plt.errorbar([0]+t_list,g_noise_mean ,yerr=g_noise_std, xerr=g_noise_std_x, label='group by particle_no',ls='none')\n",
    "plt.errorbar([0]+t_list,q_noise_mean ,yerr=q_noise_std, xerr=q_noise_std_x, label='qdrift',ls='none')\n",
    "plt.title('spectral error over different final time')\n",
    "plt.xlabel('t_max')\n",
    "plt.ylabel('spectral error') \n",
    "plt.legend()"
   ]
  }
 ],
 "metadata": {
  "kernelspec": {
   "display_name": "Python 3",
   "language": "python",
   "name": "python3"
  },
  "language_info": {
   "codemirror_mode": {
    "name": "ipython",
    "version": 3
   },
   "file_extension": ".py",
   "mimetype": "text/x-python",
   "name": "python",
   "nbconvert_exporter": "python",
   "pygments_lexer": "ipython3",
   "version": "3.11.4"
  },
  "orig_nbformat": 4
 },
 "nbformat": 4,
 "nbformat_minor": 2
}
