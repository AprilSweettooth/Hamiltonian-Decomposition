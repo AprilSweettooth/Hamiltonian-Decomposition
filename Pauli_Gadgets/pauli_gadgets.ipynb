{
 "cells": [
  {
   "attachments": {},
   "cell_type": "markdown",
   "metadata": {},
   "source": [
    "# Pauli Gadgets generation"
   ]
  },
  {
   "attachments": {},
   "cell_type": "markdown",
   "metadata": {},
   "source": [
    "import necessary packages"
   ]
  },
  {
   "cell_type": "code",
   "execution_count": 1,
   "metadata": {},
   "outputs": [],
   "source": [
    "from pytket.circuit import Circuit\n",
    "from pytket.transform import PauliSynthStrat"
   ]
  },
  {
   "cell_type": "code",
   "execution_count": 2,
   "metadata": {},
   "outputs": [],
   "source": [
    "t = 5"
   ]
  },
  {
   "cell_type": "code",
   "execution_count": 3,
   "metadata": {},
   "outputs": [
    {
     "data": {
      "text/plain": [
       "[H q[0]; Sdg q[1]; H q[1]; CX q[0], q[1]; CX q[1], q[2]; Rz(2) q[2]; CX q[1], q[2]; CX q[0], q[1]; H q[0]; H q[1]; S q[1]; ]"
      ]
     },
     "execution_count": 3,
     "metadata": {},
     "output_type": "execute_result"
    }
   ],
   "source": [
    "c = Circuit(3, name=\"Pauli Gadgets\")\n",
    "c.H(0).Sdg(1)\n",
    "c.H(1).CX(0,1).CX(1,2).Rz(2*t, 2)\n",
    "c.CX(1,2).CX(0,1).H(1)\n",
    "c.S(1).H(0)"
   ]
  },
  {
   "cell_type": "code",
   "execution_count": 4,
   "metadata": {},
   "outputs": [],
   "source": [
    "from pytket.circuit.display import render_circuit_jupyter"
   ]
  },
  {
   "cell_type": "code",
   "execution_count": 5,
   "metadata": {},
   "outputs": [
    {
     "data": {
      "text/html": [
       "\n",
       "\n",
       "\n",
       "\n",
       "\n",
       "\n",
       "<div style=\"resize: vertical; overflow: auto; height: 400px; display: block\">\n",
       "    <iframe srcdoc=\"\n",
       "&lt;!DOCTYPE html&gt;\n",
       "&lt;html lang=&#34;en&#34;&gt;\n",
       "&lt;head&gt;\n",
       "    &lt;meta charset=&#34;UTF-8&#34;&gt;\n",
       "    &lt;!-- Download Vue 3--&gt;\n",
       "&lt;script type=&#34;application/javascript&#34; src=&#34;https://cdn.jsdelivr.net/npm/vue@3&#34;&gt;&lt;/script&gt;\n",
       "&lt;!-- Download Circuit Renderer with styles --&gt;\n",
       "&lt;script type=&#34;application/javascript&#34; src=&#34;https://unpkg.com/pytket-circuit-renderer@0.6/dist/pytket-circuit-renderer.umd.js&#34;&gt;&lt;/script&gt;\n",
       "&lt;link rel=&#34;stylesheet&#34; href=&#34;https://unpkg.com/pytket-circuit-renderer@0.6/dist/pytket-circuit-renderer.css&#34;&gt;\n",
       "&lt;/head&gt;\n",
       "&lt;body&gt;\n",
       "\n",
       "\n",
       "\n",
       "    &lt;div id=&#34;circuit-display-vue-container-36aa81f4-19e4-4231-996c-13a8302686a1&#34; class=&#34;pytket-circuit-display-container&#34;&gt;\n",
       "        &lt;div style=&#34;display: none&#34;&gt;\n",
       "            &lt;div id=&#34;circuit-json-to-display&#34;&gt;{&#34;bits&#34;: [], &#34;commands&#34;: [{&#34;args&#34;: [[&#34;q&#34;, [0]]], &#34;op&#34;: {&#34;type&#34;: &#34;H&#34;}}, {&#34;args&#34;: [[&#34;q&#34;, [1]]], &#34;op&#34;: {&#34;type&#34;: &#34;Sdg&#34;}}, {&#34;args&#34;: [[&#34;q&#34;, [1]]], &#34;op&#34;: {&#34;type&#34;: &#34;H&#34;}}, {&#34;args&#34;: [[&#34;q&#34;, [0]], [&#34;q&#34;, [1]]], &#34;op&#34;: {&#34;type&#34;: &#34;CX&#34;}}, {&#34;args&#34;: [[&#34;q&#34;, [1]], [&#34;q&#34;, [2]]], &#34;op&#34;: {&#34;type&#34;: &#34;CX&#34;}}, {&#34;args&#34;: [[&#34;q&#34;, [2]]], &#34;op&#34;: {&#34;params&#34;: [&#34;10.0&#34;], &#34;type&#34;: &#34;Rz&#34;}}, {&#34;args&#34;: [[&#34;q&#34;, [1]], [&#34;q&#34;, [2]]], &#34;op&#34;: {&#34;type&#34;: &#34;CX&#34;}}, {&#34;args&#34;: [[&#34;q&#34;, [0]], [&#34;q&#34;, [1]]], &#34;op&#34;: {&#34;type&#34;: &#34;CX&#34;}}, {&#34;args&#34;: [[&#34;q&#34;, [0]]], &#34;op&#34;: {&#34;type&#34;: &#34;H&#34;}}, {&#34;args&#34;: [[&#34;q&#34;, [1]]], &#34;op&#34;: {&#34;type&#34;: &#34;H&#34;}}, {&#34;args&#34;: [[&#34;q&#34;, [1]]], &#34;op&#34;: {&#34;type&#34;: &#34;S&#34;}}], &#34;created_qubits&#34;: [], &#34;discarded_qubits&#34;: [], &#34;implicit_permutation&#34;: [[[&#34;q&#34;, [0]], [&#34;q&#34;, [0]]], [[&#34;q&#34;, [1]], [&#34;q&#34;, [1]]], [[&#34;q&#34;, [2]], [&#34;q&#34;, [2]]]], &#34;name&#34;: &#34;Pauli Gadgets&#34;, &#34;phase&#34;: &#34;0.0&#34;, &#34;qubits&#34;: [[&#34;q&#34;, [0]], [&#34;q&#34;, [1]], [&#34;q&#34;, [2]]]}&lt;/div&gt;\n",
       "        &lt;/div&gt;\n",
       "        &lt;circuit-display-container\n",
       "                :circuit-element-str=&#34;&#39;#circuit-json-to-display&#39;&#34;\n",
       "                :init-render-options=&#34;initRenderOptions&#34;\n",
       "        &gt;&lt;/circuit-display-container&gt;\n",
       "    &lt;/div&gt;\n",
       "    &lt;script type=&#34;application/javascript&#34;&gt;\n",
       "      const circuitRendererUid = &#34;36aa81f4-19e4-4231-996c-13a8302686a1&#34;;\n",
       "      const displayOptions = JSON.parse(&#39;{}&#39;);\n",
       "\n",
       "      // Script to initialise the circuit renderer app\n",
       "\n",
       "const { createApp } = Vue;\n",
       "const circuitDisplayContainer = window[&#34;pytket-circuit-renderer&#34;].default;\n",
       "// Init variables to be shared between circuit display instances\n",
       "if (typeof window.pytketCircuitDisplays === &#34;undefined&#34;) {\n",
       "    window.pytketCircuitDisplays = {};\n",
       "}\n",
       "// Create the root Vue component\n",
       "const app = createApp({\n",
       "    delimiters: [&#39;[[#&#39;, &#39;#]]&#39;],\n",
       "    components: { circuitDisplayContainer },\n",
       "    data () {\n",
       "      return {\n",
       "        initRenderOptions: displayOptions,\n",
       "      }\n",
       "    }\n",
       "})\n",
       "app.config.unwrapInjectedRef = true;\n",
       "app.mount(&#34;#circuit-display-vue-container-&#34;+circuitRendererUid);\n",
       "window.pytketCircuitDisplays[circuitRendererUid] = app;\n",
       "    &lt;/script&gt;\n",
       "\n",
       "\n",
       "\n",
       "&lt;/body&gt;\n",
       "&lt;/html&gt;\n",
       "\"\n",
       "            width=\"100%\" height=\"100%\"\n",
       "            style=\"border: none; outline: none; overflow: auto\"></iframe>\n",
       "</div>\n",
       "\n"
      ],
      "text/plain": [
       "<IPython.core.display.HTML object>"
      ]
     },
     "metadata": {},
     "output_type": "display_data"
    }
   ],
   "source": [
    "render_circuit_jupyter(c)"
   ]
  },
  {
   "cell_type": "code",
   "execution_count": 6,
   "metadata": {},
   "outputs": [
    {
     "data": {
      "image/svg+xml": [
       "<?xml version=\"1.0\" encoding=\"UTF-8\" standalone=\"no\"?>\n",
       "<!DOCTYPE svg PUBLIC \"-//W3C//DTD SVG 1.1//EN\"\n",
       " \"http://www.w3.org/Graphics/SVG/1.1/DTD/svg11.dtd\">\n",
       "<!-- Generated by graphviz version 7.0.6 (20230106.0513)\n",
       " -->\n",
       "<!-- Title: Circuit Pages: 1 -->\n",
       "<svg width=\"439pt\" height=\"126pt\"\n",
       " viewBox=\"0.00 0.00 438.60 126.00\" xmlns=\"http://www.w3.org/2000/svg\" xmlns:xlink=\"http://www.w3.org/1999/xlink\">\n",
       "<g id=\"graph0\" class=\"graph\" transform=\"scale(1 1) rotate(0) translate(4 122)\">\n",
       "<title>Circuit</title>\n",
       "<polygon fill=\"white\" stroke=\"none\" points=\"-4,4 -4,-122 434.6,-122 434.6,4 -4,4\"/>\n",
       "<g id=\"clust1\" class=\"cluster\">\n",
       "<title>cluster_q_inputs</title>\n",
       "<path fill=\"lightgrey\" stroke=\"lightgrey\" d=\"M18.53,-27C18.53,-27 23.07,-27 23.07,-27 25.33,-27 27.6,-29.27 27.6,-31.53 27.6,-31.53 27.6,-66.47 27.6,-66.47 27.6,-68.73 25.33,-71 23.07,-71 23.07,-71 18.53,-71 18.53,-71 16.27,-71 14,-68.73 14,-66.47 14,-66.47 14,-31.53 14,-31.53 14,-29.27 16.27,-27 18.53,-27\"/>\n",
       "</g>\n",
       "<g id=\"clust4\" class=\"cluster\">\n",
       "<title>cluster_q_outputs</title>\n",
       "<path fill=\"lightgrey\" stroke=\"lightgrey\" d=\"M413.53,-27C413.53,-27 418.07,-27 418.07,-27 420.33,-27 422.6,-29.27 422.6,-31.53 422.6,-31.53 422.6,-66.47 422.6,-66.47 422.6,-68.73 420.33,-71 418.07,-71 418.07,-71 413.53,-71 413.53,-71 411.27,-71 409,-68.73 409,-66.47 409,-66.47 409,-31.53 409,-31.53 409,-29.27 411.27,-27 413.53,-27\"/>\n",
       "</g>\n",
       "<g id=\"clust7\" class=\"cluster\">\n",
       "<title>cluster_6</title>\n",
       "<path fill=\"lightblue\" stroke=\"lightblue\" d=\"M91.07,-77C91.07,-77 98.93,-77 98.93,-77 102.87,-77 106.8,-80.93 106.8,-84.87 106.8,-84.87 106.8,-102.13 106.8,-102.13 106.8,-106.07 102.87,-110 98.93,-110 98.93,-110 91.07,-110 91.07,-110 87.13,-110 83.2,-106.07 83.2,-102.13 83.2,-102.13 83.2,-84.87 83.2,-84.87 83.2,-80.93 87.13,-77 91.07,-77\"/>\n",
       "<text text-anchor=\"middle\" x=\"95\" y=\"-98\" font-family=\"Times,serif\" font-size=\"10.00\">H</text>\n",
       "</g>\n",
       "<g id=\"clust8\" class=\"cluster\">\n",
       "<title>cluster_7</title>\n",
       "<path fill=\"lightblue\" stroke=\"lightblue\" d=\"M50.13,-42C50.13,-42 60.67,-42 60.67,-42 65.93,-42 71.2,-47.27 71.2,-52.53 71.2,-52.53 71.2,-64.47 71.2,-64.47 71.2,-69.73 65.93,-75 60.67,-75 60.67,-75 50.13,-75 50.13,-75 44.87,-75 39.6,-69.73 39.6,-64.47 39.6,-64.47 39.6,-52.53 39.6,-52.53 39.6,-47.27 44.87,-42 50.13,-42\"/>\n",
       "<text text-anchor=\"middle\" x=\"55.4\" y=\"-63\" font-family=\"Times,serif\" font-size=\"10.00\">Sdg</text>\n",
       "</g>\n",
       "<g id=\"clust9\" class=\"cluster\">\n",
       "<title>cluster_8</title>\n",
       "<path fill=\"lightblue\" stroke=\"lightblue\" d=\"M91.07,-42C91.07,-42 98.93,-42 98.93,-42 102.87,-42 106.8,-45.93 106.8,-49.87 106.8,-49.87 106.8,-67.13 106.8,-67.13 106.8,-71.07 102.87,-75 98.93,-75 98.93,-75 91.07,-75 91.07,-75 87.13,-75 83.2,-71.07 83.2,-67.13 83.2,-67.13 83.2,-49.87 83.2,-49.87 83.2,-45.93 87.13,-42 91.07,-42\"/>\n",
       "<text text-anchor=\"middle\" x=\"95\" y=\"-63\" font-family=\"Times,serif\" font-size=\"10.00\">H</text>\n",
       "</g>\n",
       "<g id=\"clust10\" class=\"cluster\">\n",
       "<title>cluster_9</title>\n",
       "<path fill=\"lightblue\" stroke=\"lightblue\" d=\"M129,-51C129,-51 139.2,-51 139.2,-51 144.3,-51 149.4,-56.1 149.4,-61.2 149.4,-61.2 149.4,-88.8 149.4,-88.8 149.4,-93.9 144.3,-99 139.2,-99 139.2,-99 129,-99 129,-99 123.9,-99 118.8,-93.9 118.8,-88.8 118.8,-88.8 118.8,-61.2 118.8,-61.2 118.8,-56.1 123.9,-51 129,-51\"/>\n",
       "<text text-anchor=\"middle\" x=\"134.1\" y=\"-87\" font-family=\"Times,serif\" font-size=\"10.00\">CX</text>\n",
       "</g>\n",
       "<g id=\"clust11\" class=\"cluster\">\n",
       "<title>cluster_10</title>\n",
       "<path fill=\"lightblue\" stroke=\"lightblue\" d=\"M171.6,-23C171.6,-23 181.8,-23 181.8,-23 186.9,-23 192,-28.1 192,-33.2 192,-33.2 192,-60.8 192,-60.8 192,-65.9 186.9,-71 181.8,-71 181.8,-71 171.6,-71 171.6,-71 166.5,-71 161.4,-65.9 161.4,-60.8 161.4,-60.8 161.4,-33.2 161.4,-33.2 161.4,-28.1 166.5,-23 171.6,-23\"/>\n",
       "<text text-anchor=\"middle\" x=\"176.7\" y=\"-59\" font-family=\"Times,serif\" font-size=\"10.00\">CX</text>\n",
       "</g>\n",
       "<g id=\"clust12\" class=\"cluster\">\n",
       "<title>cluster_11</title>\n",
       "<path fill=\"lightblue\" stroke=\"lightblue\" d=\"M215,-8C215,-8 231.6,-8 231.6,-8 237.1,-8 242.6,-13.5 242.6,-19 242.6,-19 242.6,-30 242.6,-30 242.6,-35.5 237.1,-41 231.6,-41 231.6,-41 215,-41 215,-41 209.5,-41 204,-35.5 204,-30 204,-30 204,-19 204,-19 204,-13.5 209.5,-8 215,-8\"/>\n",
       "<text text-anchor=\"middle\" x=\"223.3\" y=\"-29\" font-family=\"Times,serif\" font-size=\"10.00\">Rz(2)</text>\n",
       "</g>\n",
       "<g id=\"clust13\" class=\"cluster\">\n",
       "<title>cluster_12</title>\n",
       "<path fill=\"lightblue\" stroke=\"lightblue\" d=\"M264.8,-23C264.8,-23 275,-23 275,-23 280.1,-23 285.2,-28.1 285.2,-33.2 285.2,-33.2 285.2,-60.8 285.2,-60.8 285.2,-65.9 280.1,-71 275,-71 275,-71 264.8,-71 264.8,-71 259.7,-71 254.6,-65.9 254.6,-60.8 254.6,-60.8 254.6,-33.2 254.6,-33.2 254.6,-28.1 259.7,-23 264.8,-23\"/>\n",
       "<text text-anchor=\"middle\" x=\"269.9\" y=\"-59\" font-family=\"Times,serif\" font-size=\"10.00\">CX</text>\n",
       "</g>\n",
       "<g id=\"clust14\" class=\"cluster\">\n",
       "<title>cluster_13</title>\n",
       "<path fill=\"lightblue\" stroke=\"lightblue\" d=\"M307.4,-51C307.4,-51 317.6,-51 317.6,-51 322.7,-51 327.8,-56.1 327.8,-61.2 327.8,-61.2 327.8,-88.8 327.8,-88.8 327.8,-93.9 322.7,-99 317.6,-99 317.6,-99 307.4,-99 307.4,-99 302.3,-99 297.2,-93.9 297.2,-88.8 297.2,-88.8 297.2,-61.2 297.2,-61.2 297.2,-56.1 302.3,-51 307.4,-51\"/>\n",
       "<text text-anchor=\"middle\" x=\"312.5\" y=\"-87\" font-family=\"Times,serif\" font-size=\"10.00\">CX</text>\n",
       "</g>\n",
       "<g id=\"clust15\" class=\"cluster\">\n",
       "<title>cluster_14</title>\n",
       "<path fill=\"lightblue\" stroke=\"lightblue\" d=\"M347.67,-42C347.67,-42 355.53,-42 355.53,-42 359.47,-42 363.4,-45.93 363.4,-49.87 363.4,-49.87 363.4,-67.13 363.4,-67.13 363.4,-71.07 359.47,-75 355.53,-75 355.53,-75 347.67,-75 347.67,-75 343.73,-75 339.8,-71.07 339.8,-67.13 339.8,-67.13 339.8,-49.87 339.8,-49.87 339.8,-45.93 343.73,-42 347.67,-42\"/>\n",
       "<text text-anchor=\"middle\" x=\"351.6\" y=\"-63\" font-family=\"Times,serif\" font-size=\"10.00\">H</text>\n",
       "</g>\n",
       "<g id=\"clust16\" class=\"cluster\">\n",
       "<title>cluster_15</title>\n",
       "<path fill=\"lightblue\" stroke=\"lightblue\" d=\"M382.6,-42C382.6,-42 389.8,-42 389.8,-42 393.4,-42 397,-45.6 397,-49.2 397,-49.2 397,-67.8 397,-67.8 397,-71.4 393.4,-75 389.8,-75 389.8,-75 382.6,-75 382.6,-75 379,-75 375.4,-71.4 375.4,-67.8 375.4,-67.8 375.4,-49.2 375.4,-49.2 375.4,-45.6 379,-42 382.6,-42\"/>\n",
       "<text text-anchor=\"middle\" x=\"386.2\" y=\"-63\" font-family=\"Times,serif\" font-size=\"10.00\">S</text>\n",
       "</g>\n",
       "<g id=\"clust17\" class=\"cluster\">\n",
       "<title>cluster_16</title>\n",
       "<path fill=\"lightblue\" stroke=\"lightblue\" d=\"M347.67,-76C347.67,-76 355.53,-76 355.53,-76 359.47,-76 363.4,-79.93 363.4,-83.87 363.4,-83.87 363.4,-101.13 363.4,-101.13 363.4,-105.07 359.47,-109 355.53,-109 355.53,-109 347.67,-109 347.67,-109 343.73,-109 339.8,-105.07 339.8,-101.13 339.8,-101.13 339.8,-83.87 339.8,-83.87 339.8,-79.93 343.73,-76 347.67,-76\"/>\n",
       "<text text-anchor=\"middle\" x=\"351.6\" y=\"-97\" font-family=\"Times,serif\" font-size=\"10.00\">H</text>\n",
       "</g>\n",
       "<!-- (0, 0) -->\n",
       "<g id=\"node1\" class=\"node\">\n",
       "<title>(0, 0)</title>\n",
       "<ellipse fill=\"blue\" stroke=\"blue\" cx=\"20.8\" cy=\"-64\" rx=\"1.8\" ry=\"1.8\"/>\n",
       "<text text-anchor=\"middle\" x=\"9.5\" y=\"-55.8\" font-family=\"Courier,monospace\" font-size=\"8.00\">q[0]</text>\n",
       "</g>\n",
       "<!-- (6, 0) -->\n",
       "<g id=\"node7\" class=\"node\">\n",
       "<title>(6, 0)</title>\n",
       "<ellipse fill=\"black\" stroke=\"black\" cx=\"95\" cy=\"-84\" rx=\"1.8\" ry=\"1.8\"/>\n",
       "</g>\n",
       "<!-- (0, 0)&#45;&gt;(6, 0) -->\n",
       "<g id=\"edge1\" class=\"edge\">\n",
       "<title>(0, 0)&#45;&gt;(6, 0)</title>\n",
       "<path fill=\"none\" stroke=\"blue\" d=\"M22.68,-64.81C25.14,-67.03 32.37,-73.2 39.6,-76 58.32,-83.25 82.98,-83.99 91.2,-84.02\"/>\n",
       "<polygon fill=\"blue\" stroke=\"blue\" points=\"93.2,-84.01 91.2,-85.14 92.2,-84.02 91.2,-84.02 91.2,-84.02 91.2,-84.02 92.2,-84.02 91.2,-82.89 93.2,-84.01 93.2,-84.01\"/>\n",
       "</g>\n",
       "<!-- (2, 0) -->\n",
       "<g id=\"node2\" class=\"node\">\n",
       "<title>(2, 0)</title>\n",
       "<ellipse fill=\"blue\" stroke=\"blue\" cx=\"20.8\" cy=\"-49\" rx=\"1.8\" ry=\"1.8\"/>\n",
       "<text text-anchor=\"middle\" x=\"9.5\" y=\"-40.8\" font-family=\"Courier,monospace\" font-size=\"8.00\">q[1]</text>\n",
       "</g>\n",
       "<!-- (7, 0) -->\n",
       "<g id=\"node8\" class=\"node\">\n",
       "<title>(7, 0)</title>\n",
       "<ellipse fill=\"black\" stroke=\"black\" cx=\"55.4\" cy=\"-49\" rx=\"1.8\" ry=\"1.8\"/>\n",
       "</g>\n",
       "<!-- (2, 0)&#45;&gt;(7, 0) -->\n",
       "<g id=\"edge2\" class=\"edge\">\n",
       "<title>(2, 0)&#45;&gt;(7, 0)</title>\n",
       "<path fill=\"none\" stroke=\"blue\" d=\"M22.61,-49C26.59,-49 44.25,-49 51.39,-49\"/>\n",
       "<polygon fill=\"blue\" stroke=\"blue\" points=\"53.24,-49 51.24,-50.13 52.24,-49 51.24,-49 51.24,-49 51.24,-49 52.24,-49 51.24,-47.88 53.24,-49 53.24,-49\"/>\n",
       "</g>\n",
       "<!-- (4, 0) -->\n",
       "<g id=\"node3\" class=\"node\">\n",
       "<title>(4, 0)</title>\n",
       "<ellipse fill=\"blue\" stroke=\"blue\" cx=\"20.8\" cy=\"-34\" rx=\"1.8\" ry=\"1.8\"/>\n",
       "<text text-anchor=\"middle\" x=\"9.5\" y=\"-25.8\" font-family=\"Courier,monospace\" font-size=\"8.00\">q[2]</text>\n",
       "</g>\n",
       "<!-- (10, 1) -->\n",
       "<g id=\"node13\" class=\"node\">\n",
       "<title>(10, 1)</title>\n",
       "<ellipse fill=\"black\" stroke=\"black\" cx=\"176.2\" cy=\"-30\" rx=\"1.8\" ry=\"1.8\"/>\n",
       "<text text-anchor=\"middle\" x=\"171.9\" y=\"-21.8\" font-family=\"Helvetica,sans-Serif\" font-size=\"8.00\">1</text>\n",
       "</g>\n",
       "<!-- (4, 0)&#45;&gt;(10, 1) -->\n",
       "<g id=\"edge3\" class=\"edge\">\n",
       "<title>(4, 0)&#45;&gt;(10, 1)</title>\n",
       "<path fill=\"none\" stroke=\"blue\" d=\"M22.78,-33.97C34.75,-33.66 152.65,-30.59 172.4,-30.07\"/>\n",
       "<polygon fill=\"blue\" stroke=\"blue\" points=\"174.31,-30.02 172.34,-31.2 173.31,-30.05 172.31,-30.08 172.31,-30.08 172.31,-30.08 173.31,-30.05 172.28,-28.95 174.31,-30.02 174.31,-30.02\"/>\n",
       "</g>\n",
       "<!-- (1, 0) -->\n",
       "<g id=\"node4\" class=\"node\">\n",
       "<title>(1, 0)</title>\n",
       "<ellipse fill=\"blue\" stroke=\"blue\" cx=\"415.8\" cy=\"-64\" rx=\"1.8\" ry=\"1.8\"/>\n",
       "<text text-anchor=\"middle\" x=\"404.5\" y=\"-55.8\" font-family=\"Courier,monospace\" font-size=\"8.00\">q[0]</text>\n",
       "</g>\n",
       "<!-- (3, 0) -->\n",
       "<g id=\"node5\" class=\"node\">\n",
       "<title>(3, 0)</title>\n",
       "<ellipse fill=\"blue\" stroke=\"blue\" cx=\"415.8\" cy=\"-49\" rx=\"1.8\" ry=\"1.8\"/>\n",
       "<text text-anchor=\"middle\" x=\"404.5\" y=\"-40.8\" font-family=\"Courier,monospace\" font-size=\"8.00\">q[1]</text>\n",
       "</g>\n",
       "<!-- (5, 0) -->\n",
       "<g id=\"node6\" class=\"node\">\n",
       "<title>(5, 0)</title>\n",
       "<ellipse fill=\"blue\" stroke=\"blue\" cx=\"415.8\" cy=\"-34\" rx=\"1.8\" ry=\"1.8\"/>\n",
       "<text text-anchor=\"middle\" x=\"404.5\" y=\"-25.8\" font-family=\"Courier,monospace\" font-size=\"8.00\">q[2]</text>\n",
       "</g>\n",
       "<!-- (9, 0) -->\n",
       "<g id=\"node10\" class=\"node\">\n",
       "<title>(9, 0)</title>\n",
       "<ellipse fill=\"black\" stroke=\"black\" cx=\"133.6\" cy=\"-73\" rx=\"1.8\" ry=\"1.8\"/>\n",
       "<text text-anchor=\"middle\" x=\"129.3\" y=\"-64.8\" font-family=\"Helvetica,sans-Serif\" font-size=\"8.00\">0</text>\n",
       "</g>\n",
       "<!-- (6, 0)&#45;&gt;(9, 0) -->\n",
       "<g id=\"edge4\" class=\"edge\">\n",
       "<title>(6, 0)&#45;&gt;(9, 0)</title>\n",
       "<path fill=\"none\" stroke=\"blue\" d=\"M96.9,-83.73C101.53,-82.34 122.64,-75.99 130.03,-73.77\"/>\n",
       "<polygon fill=\"blue\" stroke=\"blue\" points=\"131.85,-73.22 130.26,-74.88 130.89,-73.51 129.94,-73.8 129.94,-73.8 129.94,-73.8 130.89,-73.51 129.61,-72.72 131.85,-73.22 131.85,-73.22\"/>\n",
       "</g>\n",
       "<!-- (8, 0) -->\n",
       "<g id=\"node9\" class=\"node\">\n",
       "<title>(8, 0)</title>\n",
       "<ellipse fill=\"black\" stroke=\"black\" cx=\"95\" cy=\"-49\" rx=\"1.8\" ry=\"1.8\"/>\n",
       "</g>\n",
       "<!-- (7, 0)&#45;&gt;(8, 0) -->\n",
       "<g id=\"edge5\" class=\"edge\">\n",
       "<title>(7, 0)&#45;&gt;(8, 0)</title>\n",
       "<path fill=\"none\" stroke=\"blue\" d=\"M57.65,-49C62.91,-49 83.34,-49 91.04,-49\"/>\n",
       "<polygon fill=\"blue\" stroke=\"blue\" points=\"92.71,-49 90.71,-50.13 91.71,-49 90.71,-49 90.71,-49 90.71,-49 91.71,-49 90.71,-47.88 92.71,-49 92.71,-49\"/>\n",
       "</g>\n",
       "<!-- (9, 1) -->\n",
       "<g id=\"node11\" class=\"node\">\n",
       "<title>(9, 1)</title>\n",
       "<ellipse fill=\"black\" stroke=\"black\" cx=\"133.6\" cy=\"-58\" rx=\"1.8\" ry=\"1.8\"/>\n",
       "<text text-anchor=\"middle\" x=\"129.3\" y=\"-49.8\" font-family=\"Helvetica,sans-Serif\" font-size=\"8.00\">1</text>\n",
       "</g>\n",
       "<!-- (8, 0)&#45;&gt;(9, 1) -->\n",
       "<g id=\"edge6\" class=\"edge\">\n",
       "<title>(8, 0)&#45;&gt;(9, 1)</title>\n",
       "<path fill=\"none\" stroke=\"blue\" d=\"M96.9,-49.22C101.53,-50.36 122.64,-55.55 130.03,-57.37\"/>\n",
       "<polygon fill=\"blue\" stroke=\"blue\" points=\"131.85,-57.82 129.64,-58.43 130.88,-57.58 129.91,-57.34 129.91,-57.34 129.91,-57.34 130.88,-57.58 130.18,-56.25 131.85,-57.82 131.85,-57.82\"/>\n",
       "</g>\n",
       "<!-- (13, 0) -->\n",
       "<g id=\"node17\" class=\"node\">\n",
       "<title>(13, 0)</title>\n",
       "<ellipse fill=\"black\" stroke=\"black\" cx=\"312\" cy=\"-73\" rx=\"1.8\" ry=\"1.8\"/>\n",
       "<text text-anchor=\"middle\" x=\"307.7\" y=\"-64.8\" font-family=\"Helvetica,sans-Serif\" font-size=\"8.00\">0</text>\n",
       "</g>\n",
       "<!-- (9, 0)&#45;&gt;(13, 0) -->\n",
       "<g id=\"edge7\" class=\"edge\">\n",
       "<title>(9, 0)&#45;&gt;(13, 0)</title>\n",
       "<path fill=\"none\" stroke=\"blue\" d=\"M135.73,-73C149.54,-73 286.18,-73 308.05,-73\"/>\n",
       "<polygon fill=\"blue\" stroke=\"blue\" points=\"309.98,-73 307.98,-74.13 308.98,-73 307.98,-73 307.98,-73 307.98,-73 308.98,-73 307.98,-71.88 309.98,-73 309.98,-73\"/>\n",
       "</g>\n",
       "<!-- (10, 0) -->\n",
       "<g id=\"node12\" class=\"node\">\n",
       "<title>(10, 0)</title>\n",
       "<ellipse fill=\"black\" stroke=\"black\" cx=\"176.2\" cy=\"-45\" rx=\"1.8\" ry=\"1.8\"/>\n",
       "<text text-anchor=\"middle\" x=\"171.9\" y=\"-36.8\" font-family=\"Helvetica,sans-Serif\" font-size=\"8.00\">0</text>\n",
       "</g>\n",
       "<!-- (9, 1)&#45;&gt;(10, 0) -->\n",
       "<g id=\"edge8\" class=\"edge\">\n",
       "<title>(9, 1)&#45;&gt;(10, 0)</title>\n",
       "<path fill=\"none\" stroke=\"blue\" d=\"M135.6,-57.68C140.83,-56.01 164.96,-48.28 172.76,-45.78\"/>\n",
       "<polygon fill=\"blue\" stroke=\"blue\" points=\"174.37,-45.27 172.81,-46.95 173.42,-45.57 172.47,-45.88 172.47,-45.88 172.47,-45.88 173.42,-45.57 172.12,-44.8 174.37,-45.27 174.37,-45.27\"/>\n",
       "</g>\n",
       "<!-- (12, 0) -->\n",
       "<g id=\"node15\" class=\"node\">\n",
       "<title>(12, 0)</title>\n",
       "<ellipse fill=\"black\" stroke=\"black\" cx=\"269.4\" cy=\"-45\" rx=\"1.8\" ry=\"1.8\"/>\n",
       "<text text-anchor=\"middle\" x=\"265.1\" y=\"-36.8\" font-family=\"Helvetica,sans-Serif\" font-size=\"8.00\">0</text>\n",
       "</g>\n",
       "<!-- (10, 0)&#45;&gt;(12, 0) -->\n",
       "<g id=\"edge10\" class=\"edge\">\n",
       "<title>(10, 0)&#45;&gt;(12, 0)</title>\n",
       "<path fill=\"none\" stroke=\"blue\" d=\"M178.49,-45C188.31,-45 251.32,-45 265.55,-45\"/>\n",
       "<polygon fill=\"blue\" stroke=\"blue\" points=\"267.28,-45 265.28,-46.13 266.28,-45 265.28,-45 265.28,-45 265.28,-45 266.28,-45 265.28,-43.88 267.28,-45 267.28,-45\"/>\n",
       "</g>\n",
       "<!-- (11, 0) -->\n",
       "<g id=\"node14\" class=\"node\">\n",
       "<title>(11, 0)</title>\n",
       "<ellipse fill=\"black\" stroke=\"black\" cx=\"222.8\" cy=\"-15\" rx=\"1.8\" ry=\"1.8\"/>\n",
       "</g>\n",
       "<!-- (10, 1)&#45;&gt;(11, 0) -->\n",
       "<g id=\"edge9\" class=\"edge\">\n",
       "<title>(10, 1)&#45;&gt;(11, 0)</title>\n",
       "<path fill=\"none\" stroke=\"blue\" d=\"M178.3,-29.63C184.04,-27.7 210.55,-18.78 219.12,-15.9\"/>\n",
       "<polygon fill=\"blue\" stroke=\"blue\" points=\"220.89,-15.31 219.35,-17.01 219.94,-15.63 218.99,-15.94 218.99,-15.94 218.99,-15.94 219.94,-15.63 218.63,-14.88 220.89,-15.31 220.89,-15.31\"/>\n",
       "</g>\n",
       "<!-- (12, 1) -->\n",
       "<g id=\"node16\" class=\"node\">\n",
       "<title>(12, 1)</title>\n",
       "<ellipse fill=\"black\" stroke=\"black\" cx=\"269.4\" cy=\"-30\" rx=\"1.8\" ry=\"1.8\"/>\n",
       "<text text-anchor=\"middle\" x=\"265.1\" y=\"-21.8\" font-family=\"Helvetica,sans-Serif\" font-size=\"8.00\">1</text>\n",
       "</g>\n",
       "<!-- (11, 0)&#45;&gt;(12, 1) -->\n",
       "<g id=\"edge11\" class=\"edge\">\n",
       "<title>(11, 0)&#45;&gt;(12, 1)</title>\n",
       "<path fill=\"none\" stroke=\"blue\" d=\"M224.9,-15.37C230.64,-17.3 257.15,-26.22 265.72,-29.1\"/>\n",
       "<polygon fill=\"blue\" stroke=\"blue\" points=\"267.49,-29.69 265.23,-30.12 266.54,-29.37 265.59,-29.06 265.59,-29.06 265.59,-29.06 266.54,-29.37 265.95,-27.99 267.49,-29.69 267.49,-29.69\"/>\n",
       "</g>\n",
       "<!-- (13, 1) -->\n",
       "<g id=\"node18\" class=\"node\">\n",
       "<title>(13, 1)</title>\n",
       "<ellipse fill=\"black\" stroke=\"black\" cx=\"312\" cy=\"-58\" rx=\"1.8\" ry=\"1.8\"/>\n",
       "<text text-anchor=\"middle\" x=\"307.7\" y=\"-49.8\" font-family=\"Helvetica,sans-Serif\" font-size=\"8.00\">1</text>\n",
       "</g>\n",
       "<!-- (12, 0)&#45;&gt;(13, 1) -->\n",
       "<g id=\"edge12\" class=\"edge\">\n",
       "<title>(12, 0)&#45;&gt;(13, 1)</title>\n",
       "<path fill=\"none\" stroke=\"blue\" d=\"M271.4,-45.32C276.63,-46.99 300.76,-54.72 308.56,-57.22\"/>\n",
       "<polygon fill=\"blue\" stroke=\"blue\" points=\"310.17,-57.73 307.92,-58.2 309.22,-57.43 308.27,-57.12 308.27,-57.12 308.27,-57.12 309.22,-57.43 308.61,-56.05 310.17,-57.73 310.17,-57.73\"/>\n",
       "</g>\n",
       "<!-- (12, 1)&#45;&gt;(5, 0) -->\n",
       "<g id=\"edge13\" class=\"edge\">\n",
       "<title>(12, 1)&#45;&gt;(5, 0)</title>\n",
       "<path fill=\"none\" stroke=\"blue\" d=\"M271.65,-30.03C284.57,-30.39 393.91,-33.42 412.21,-33.93\"/>\n",
       "<polygon fill=\"blue\" stroke=\"blue\" points=\"413.97,-33.98 411.94,-35.05 412.97,-33.95 411.98,-33.92 411.98,-33.92 411.98,-33.92 412.97,-33.95 412.01,-32.8 413.97,-33.98 413.97,-33.98\"/>\n",
       "</g>\n",
       "<!-- (16, 0) -->\n",
       "<g id=\"node21\" class=\"node\">\n",
       "<title>(16, 0)</title>\n",
       "<ellipse fill=\"black\" stroke=\"black\" cx=\"351.6\" cy=\"-83\" rx=\"1.8\" ry=\"1.8\"/>\n",
       "</g>\n",
       "<!-- (13, 0)&#45;&gt;(16, 0) -->\n",
       "<g id=\"edge14\" class=\"edge\">\n",
       "<title>(13, 0)&#45;&gt;(16, 0)</title>\n",
       "<path fill=\"none\" stroke=\"blue\" d=\"M314.25,-73.33C319.61,-74.76 340.68,-80.36 348.05,-82.32\"/>\n",
       "<polygon fill=\"blue\" stroke=\"blue\" points=\"349.86,-82.8 347.64,-83.38 348.89,-82.55 347.92,-82.29 347.92,-82.29 347.92,-82.29 348.89,-82.55 348.21,-81.2 349.86,-82.8 349.86,-82.8\"/>\n",
       "</g>\n",
       "<!-- (14, 0) -->\n",
       "<g id=\"node19\" class=\"node\">\n",
       "<title>(14, 0)</title>\n",
       "<ellipse fill=\"black\" stroke=\"black\" cx=\"351.6\" cy=\"-49\" rx=\"1.8\" ry=\"1.8\"/>\n",
       "</g>\n",
       "<!-- (13, 1)&#45;&gt;(14, 0) -->\n",
       "<g id=\"edge15\" class=\"edge\">\n",
       "<title>(13, 1)&#45;&gt;(14, 0)</title>\n",
       "<path fill=\"none\" stroke=\"blue\" d=\"M314.25,-57.7C319.61,-56.42 340.68,-51.37 348.05,-49.61\"/>\n",
       "<polygon fill=\"blue\" stroke=\"blue\" points=\"349.86,-49.18 348.17,-50.74 348.88,-49.41 347.91,-49.64 347.91,-49.64 347.91,-49.64 348.88,-49.41 347.65,-48.55 349.86,-49.18 349.86,-49.18\"/>\n",
       "</g>\n",
       "<!-- (15, 0) -->\n",
       "<g id=\"node20\" class=\"node\">\n",
       "<title>(15, 0)</title>\n",
       "<ellipse fill=\"black\" stroke=\"black\" cx=\"386.2\" cy=\"-49\" rx=\"1.8\" ry=\"1.8\"/>\n",
       "</g>\n",
       "<!-- (14, 0)&#45;&gt;(15, 0) -->\n",
       "<g id=\"edge16\" class=\"edge\">\n",
       "<title>(14, 0)&#45;&gt;(15, 0)</title>\n",
       "<path fill=\"none\" stroke=\"blue\" d=\"M353.41,-49C357.39,-49 375.05,-49 382.19,-49\"/>\n",
       "<polygon fill=\"blue\" stroke=\"blue\" points=\"384.04,-49 382.04,-50.13 383.04,-49 382.04,-49 382.04,-49 382.04,-49 383.04,-49 382.04,-47.88 384.04,-49 384.04,-49\"/>\n",
       "</g>\n",
       "<!-- (15, 0)&#45;&gt;(3, 0) -->\n",
       "<g id=\"edge17\" class=\"edge\">\n",
       "<title>(15, 0)&#45;&gt;(3, 0)</title>\n",
       "<path fill=\"none\" stroke=\"blue\" d=\"M388.39,-49C392.43,-49 405.76,-49 411.79,-49\"/>\n",
       "<polygon fill=\"blue\" stroke=\"blue\" points=\"413.65,-49 411.65,-50.13 412.65,-49 411.65,-49 411.65,-49 411.65,-49 412.65,-49 411.65,-47.88 413.65,-49 413.65,-49\"/>\n",
       "</g>\n",
       "<!-- (16, 0)&#45;&gt;(1, 0) -->\n",
       "<g id=\"edge18\" class=\"edge\">\n",
       "<title>(16, 0)&#45;&gt;(1, 0)</title>\n",
       "<path fill=\"none\" stroke=\"blue\" d=\"M353.75,-83C358.94,-82.96 380.73,-82.4 397,-76 403.09,-73.61 409.19,-68.85 412.43,-66.1\"/>\n",
       "<polygon fill=\"blue\" stroke=\"blue\" points=\"413.92,-64.81 413.15,-66.97 413.16,-65.47 412.41,-66.12 412.41,-66.12 412.41,-66.12 413.16,-65.47 411.67,-65.27 413.92,-64.81 413.92,-64.81\"/>\n",
       "</g>\n",
       "</g>\n",
       "</svg>\n"
      ],
      "text/plain": [
       "<graphviz.graphs.Digraph at 0x10eac5110>"
      ]
     },
     "execution_count": 6,
     "metadata": {},
     "output_type": "execute_result"
    }
   ],
   "source": [
    "from pytket.utils import Graph\n",
    "G = Graph(c)\n",
    "G.get_DAG()"
   ]
  },
  {
   "attachments": {},
   "cell_type": "markdown",
   "metadata": {},
   "source": [
    "connectivity graph"
   ]
  },
  {
   "cell_type": "code",
   "execution_count": 7,
   "metadata": {},
   "outputs": [
    {
     "data": {
      "image/svg+xml": [
       "<?xml version=\"1.0\" encoding=\"UTF-8\" standalone=\"no\"?>\n",
       "<!DOCTYPE svg PUBLIC \"-//W3C//DTD SVG 1.1//EN\"\n",
       " \"http://www.w3.org/Graphics/SVG/1.1/DTD/svg11.dtd\">\n",
       "<!-- Generated by graphviz version 7.0.6 (20230106.0513)\n",
       " -->\n",
       "<!-- Title: Qubit connectivity Pages: 1 -->\n",
       "<svg width=\"124pt\" height=\"182pt\"\n",
       " viewBox=\"0.00 0.00 124.12 181.90\" xmlns=\"http://www.w3.org/2000/svg\" xmlns:xlink=\"http://www.w3.org/1999/xlink\">\n",
       "<g id=\"graph0\" class=\"graph\" transform=\"scale(1 1) rotate(0) translate(4 177.9)\">\n",
       "<title>Qubit connectivity</title>\n",
       "<polygon fill=\"white\" stroke=\"none\" points=\"-4,4 -4,-177.9 120.12,-177.9 120.12,4 -4,4\"/>\n",
       "<!-- q[1] -->\n",
       "<g id=\"node1\" class=\"node\">\n",
       "<title>q[1]</title>\n",
       "<ellipse fill=\"none\" stroke=\"blue\" cx=\"48.09\" cy=\"-92.34\" rx=\"24.27\" ry=\"24.27\"/>\n",
       "<text text-anchor=\"middle\" x=\"48.09\" y=\"-89.84\" font-family=\"Courier,monospace\" font-size=\"10.00\">q[1]</text>\n",
       "</g>\n",
       "<!-- q[0] -->\n",
       "<g id=\"node2\" class=\"node\">\n",
       "<title>q[0]</title>\n",
       "<ellipse fill=\"none\" stroke=\"blue\" cx=\"91.99\" cy=\"-149.76\" rx=\"24.27\" ry=\"24.27\"/>\n",
       "<text text-anchor=\"middle\" x=\"91.99\" y=\"-147.26\" font-family=\"Courier,monospace\" font-size=\"10.00\">q[0]</text>\n",
       "</g>\n",
       "<!-- q[1]&#45;&#45;q[0] -->\n",
       "<g id=\"edge1\" class=\"edge\">\n",
       "<title>q[1]&#45;&#45;q[0]</title>\n",
       "<path fill=\"none\" stroke=\"black\" d=\"M62.95,-111.78C67.53,-117.77 72.57,-124.36 77.14,-130.34\"/>\n",
       "</g>\n",
       "<!-- q[2] -->\n",
       "<g id=\"node3\" class=\"node\">\n",
       "<title>q[2]</title>\n",
       "<ellipse fill=\"none\" stroke=\"blue\" cx=\"24.14\" cy=\"-24.14\" rx=\"24.27\" ry=\"24.27\"/>\n",
       "<text text-anchor=\"middle\" x=\"24.14\" y=\"-21.64\" font-family=\"Courier,monospace\" font-size=\"10.00\">q[2]</text>\n",
       "</g>\n",
       "<!-- q[1]&#45;&#45;q[2] -->\n",
       "<g id=\"edge2\" class=\"edge\">\n",
       "<title>q[1]&#45;&#45;q[2]</title>\n",
       "<path fill=\"none\" stroke=\"black\" d=\"M39.98,-69.25C37.48,-62.14 34.73,-54.31 32.24,-47.2\"/>\n",
       "</g>\n",
       "</g>\n",
       "</svg>\n"
      ],
      "text/plain": [
       "<graphviz.graphs.Graph at 0x11408fb10>"
      ]
     },
     "execution_count": 7,
     "metadata": {},
     "output_type": "execute_result"
    }
   ],
   "source": [
    "G.get_qubit_graph()"
   ]
  },
  {
   "cell_type": "code",
   "execution_count": 3,
   "metadata": {},
   "outputs": [],
   "source": [
    "from paulis import PauliGadget\n",
    "c = PauliGadget('YX',0.2)"
   ]
  },
  {
   "cell_type": "code",
   "execution_count": 4,
   "metadata": {},
   "outputs": [
    {
     "name": "stdout",
     "output_type": "stream",
     "text": [
      "     ┌─────┐┌───┐┌───┐           ┌───┐┌───┐┌───┐\n",
      "q_0: ┤ Sdg ├┤ H ├┤ X ├───────────┤ X ├┤ S ├┤ H ├\n",
      "     └┬───┬┘└───┘└─┬─┘┌─────────┐└─┬─┘├───┤└───┘\n",
      "q_1: ─┤ H ├────────■──┤ Rz(π/5) ├──■──┤ H ├─────\n",
      "      └───┘           └─────────┘     └───┘     \n"
     ]
    }
   ],
   "source": [
    "# c = Circuit(2, name=\"Pauli Gadgets\")\n",
    "# # c.X(0).X(1)\n",
    "# c.CX(1,0).Rz(0.2, 0)\n",
    "# c.CX(1,0)\n",
    "print(tk_to_qiskit(c))"
   ]
  },
  {
   "cell_type": "code",
   "execution_count": 2,
   "metadata": {},
   "outputs": [
    {
     "name": "stdout",
     "output_type": "stream",
     "text": [
      "     ┌────┐┌───┐┌─────────┐┌───┐┌──────┐\n",
      "q_0: ┤ √X ├┤ X ├┤ Rz(π/5) ├┤ X ├┤ √Xdg ├\n",
      "     ├───┬┘└─┬─┘└─────────┘└─┬─┘└┬───┬─┘\n",
      "q_1: ┤ H ├───■───────────────■───┤ H ├──\n",
      "     └───┘                       └───┘  \n"
     ]
    }
   ],
   "source": [
    "from pytket.extensions.qiskit import tk_to_qiskit\n",
    "print(tk_to_qiskit(C))"
   ]
  },
  {
   "cell_type": "code",
   "execution_count": 1,
   "metadata": {},
   "outputs": [
    {
     "data": {
      "text/plain": [
       "True"
      ]
     },
     "execution_count": 1,
     "metadata": {},
     "output_type": "execute_result"
    }
   ],
   "source": [
    "from pytket.circuit import Circuit, OpType, PauliExpBox\n",
    "from pytket.transform import Transform\n",
    "from pytket.pauli import Pauli\n",
    "C = Circuit(2)\n",
    "pbox = PauliExpBox([Pauli.Y, Pauli.X], 0.2)\n",
    "C.add_pauliexpbox(pbox, [0, 1])\n",
    "Transform.DecomposeBoxes().apply(C)"
   ]
  },
  {
   "cell_type": "code",
   "execution_count": 9,
   "metadata": {},
   "outputs": [
    {
     "name": "stdout",
     "output_type": "stream",
     "text": [
      "[H q[0];, Sdg q[1];, H q[1];, CX q[0], q[1];, CX q[1], q[2];, Rz(2) q[2];, CX q[1], q[2];, CX q[0], q[1];, H q[0];, H q[1];, S q[1];]\n"
     ]
    }
   ],
   "source": [
    "cmds = c.get_commands()\n",
    "print(cmds)"
   ]
  },
  {
   "attachments": {},
   "cell_type": "markdown",
   "metadata": {},
   "source": [
    "Import Aer Backend"
   ]
  },
  {
   "cell_type": "code",
   "execution_count": 8,
   "metadata": {},
   "outputs": [],
   "source": [
    "from pytket.extensions.qiskit import (\n",
    "    AerStateBackend,\n",
    "    AerBackend,\n",
    "    AerUnitaryBackend,\n",
    ")\n",
    "from pytket.extensions.projectq import ProjectQBackend"
   ]
  },
  {
   "cell_type": "code",
   "execution_count": 44,
   "metadata": {},
   "outputs": [
    {
     "data": {
      "text/plain": [
       "0.9510565162951535"
      ]
     },
     "execution_count": 44,
     "metadata": {},
     "output_type": "execute_result"
    }
   ],
   "source": [
    "import numpy as np\n",
    "np.cos(np.pi/10)\n"
   ]
  },
  {
   "cell_type": "code",
   "execution_count": 43,
   "metadata": {},
   "outputs": [
    {
     "name": "stdout",
     "output_type": "stream",
     "text": [
      "[0.95105652-0.30901699j 0.        +0.j         0.        +0.j\n",
      " 0.        +0.j        ]\n"
     ]
    }
   ],
   "source": [
    "aer_state_b = AerStateBackend()\n",
    "state_handle = aer_state_b.process_circuit(C)\n",
    "statevector = aer_state_b.get_result(state_handle).get_state()\n",
    "print(statevector)"
   ]
  },
  {
   "cell_type": "code",
   "execution_count": 31,
   "metadata": {},
   "outputs": [
    {
     "name": "stdout",
     "output_type": "stream",
     "text": [
      "[0.95105652-0.30901699j 0.        +0.j         0.        +0.j\n",
      " 0.        +0.j        ]\n"
     ]
    }
   ],
   "source": [
    "aer_state_b = AerStateBackend()\n",
    "state_handle = aer_state_b.process_circuit(c)\n",
    "statevector = aer_state_b.get_result(state_handle).get_state()\n",
    "print(statevector)"
   ]
  },
  {
   "attachments": {},
   "cell_type": "markdown",
   "metadata": {},
   "source": [
    "Unitary backend with ful matrix returned"
   ]
  },
  {
   "cell_type": "code",
   "execution_count": 13,
   "metadata": {},
   "outputs": [
    {
     "name": "stdout",
     "output_type": "stream",
     "text": [
      "[[-1.00000000e+00+1.22464680e-16j  0.00000000e+00+0.00000000e+00j\n",
      "  -6.12323400e-17+0.00000000e+00j  0.00000000e+00+0.00000000e+00j\n",
      "   3.74939946e-33-6.12323400e-17j  0.00000000e+00+0.00000000e+00j\n",
      "  -1.22464680e-16+3.74939946e-33j  0.00000000e+00+0.00000000e+00j]\n",
      " [ 0.00000000e+00+0.00000000e+00j -1.00000000e+00+1.22464680e-16j\n",
      "   0.00000000e+00+0.00000000e+00j -6.12323400e-17+0.00000000e+00j\n",
      "   0.00000000e+00+0.00000000e+00j -1.12481984e-32-6.12323400e-17j\n",
      "   0.00000000e+00+0.00000000e+00j  1.22464680e-16-1.12481984e-32j]\n",
      " [ 6.12323400e-17+0.00000000e+00j -0.00000000e+00+0.00000000e+00j\n",
      "  -1.00000000e+00+2.44929360e-16j -0.00000000e+00+0.00000000e+00j\n",
      "   1.22464680e-16-3.74939946e-33j -0.00000000e+00+0.00000000e+00j\n",
      "   3.74939946e-33-6.12323400e-17j -0.00000000e+00+0.00000000e+00j]\n",
      " [-0.00000000e+00+0.00000000e+00j  6.12323400e-17+0.00000000e+00j\n",
      "  -0.00000000e+00+0.00000000e+00j -1.00000000e+00+2.44929360e-16j\n",
      "  -0.00000000e+00+0.00000000e+00j -1.22464680e-16+1.12481984e-32j\n",
      "  -0.00000000e+00+0.00000000e+00j -1.12481984e-32-6.12323400e-17j]\n",
      " [ 3.74939946e-33-6.12323400e-17j  0.00000000e+00+0.00000000e+00j\n",
      "  -1.22464680e-16+3.74939946e-33j  0.00000000e+00+0.00000000e+00j\n",
      "  -1.00000000e+00+2.44929360e-16j  0.00000000e+00+0.00000000e+00j\n",
      "  -6.12323400e-17+0.00000000e+00j  0.00000000e+00+0.00000000e+00j]\n",
      " [ 0.00000000e+00+0.00000000e+00j -1.12481984e-32-6.12323400e-17j\n",
      "   0.00000000e+00+0.00000000e+00j  1.22464680e-16-1.12481984e-32j\n",
      "   0.00000000e+00+0.00000000e+00j -1.00000000e+00+2.44929360e-16j\n",
      "   0.00000000e+00+0.00000000e+00j -6.12323400e-17+0.00000000e+00j]\n",
      " [ 1.22464680e-16-3.74939946e-33j -0.00000000e+00+0.00000000e+00j\n",
      "   3.74939946e-33-6.12323400e-17j -0.00000000e+00+0.00000000e+00j\n",
      "   6.12323400e-17+0.00000000e+00j -0.00000000e+00+0.00000000e+00j\n",
      "  -1.00000000e+00+3.67394040e-16j -0.00000000e+00+0.00000000e+00j]\n",
      " [-0.00000000e+00+0.00000000e+00j -1.22464680e-16+1.12481984e-32j\n",
      "  -0.00000000e+00+0.00000000e+00j -1.12481984e-32-6.12323400e-17j\n",
      "  -0.00000000e+00+0.00000000e+00j  6.12323400e-17+0.00000000e+00j\n",
      "  -0.00000000e+00+0.00000000e+00j -1.00000000e+00+3.67394040e-16j]]\n"
     ]
    }
   ],
   "source": [
    "aer_unitary_b = AerUnitaryBackend()\n",
    "result = aer_unitary_b.run_circuit(c)\n",
    "print(result.get_unitary())"
   ]
  },
  {
   "attachments": {},
   "cell_type": "markdown",
   "metadata": {},
   "source": [
    "TEKT measurements"
   ]
  },
  {
   "cell_type": "code",
   "execution_count": 14,
   "metadata": {},
   "outputs": [],
   "source": [
    "statevector = c.get_statevector()\n",
    "unitary = c.get_unitary()"
   ]
  },
  {
   "cell_type": "code",
   "execution_count": 15,
   "metadata": {},
   "outputs": [
    {
     "data": {
      "text/plain": [
       "[H q[0]; Sdg q[1]; H q[1]; CX q[0], q[1]; CX q[1], q[2]; Rz(2) q[2]; CX q[1], q[2]; Measure q[2] --> c[2]; CX q[0], q[1]; H q[0]; H q[1]; Measure q[0] --> c[0]; S q[1]; Measure q[1] --> c[1]; ]"
      ]
     },
     "execution_count": 15,
     "metadata": {},
     "output_type": "execute_result"
    }
   ],
   "source": [
    "c.measure_all()"
   ]
  },
  {
   "attachments": {},
   "cell_type": "markdown",
   "metadata": {},
   "source": [
    "Let's get a number of shots/measurement out of the circuit"
   ]
  },
  {
   "cell_type": "code",
   "execution_count": 16,
   "metadata": {},
   "outputs": [
    {
     "name": "stdout",
     "output_type": "stream",
     "text": [
      "Counter({(0, 0, 0): 10})\n"
     ]
    }
   ],
   "source": [
    "aer_b = AerBackend()\n",
    "handle = aer_b.process_circuit(c, n_shots=10, seed=1)\n",
    "counts = aer_b.get_result(handle).get_counts()\n",
    "print(counts)"
   ]
  },
  {
   "attachments": {},
   "cell_type": "markdown",
   "metadata": {},
   "source": [
    "Finally, let's add some noise in the circuit"
   ]
  },
  {
   "cell_type": "code",
   "execution_count": 17,
   "metadata": {},
   "outputs": [],
   "source": [
    "from qiskit.providers.aer.noise import NoiseModel"
   ]
  },
  {
   "cell_type": "code",
   "execution_count": 18,
   "metadata": {},
   "outputs": [],
   "source": [
    "my_noise_model = NoiseModel()\n",
    "readout_error = 0.2\n",
    "for q in range(2):\n",
    "    my_noise_model.add_readout_error(\n",
    "        [[1 - readout_error, readout_error], [readout_error, 1 - readout_error]], [q]\n",
    "    )"
   ]
  },
  {
   "attachments": {},
   "cell_type": "markdown",
   "metadata": {},
   "source": [
    "This simple noise model gives a 20% chance that, upon measurement, a qubit that would otherwise have been measured as $0$ would instead be measured as $1$, and vice versa. Let's see what our shot table looks like with this model:"
   ]
  },
  {
   "cell_type": "code",
   "execution_count": 20,
   "metadata": {},
   "outputs": [
    {
     "name": "stdout",
     "output_type": "stream",
     "text": [
      "Counter({(0, 0, 0): 9, (0, 1, 0): 1})\n"
     ]
    }
   ],
   "source": [
    "noisy_aer_b = AerBackend(my_noise_model)\n",
    "noisy_handle = noisy_aer_b.process_circuit(c, n_shots=10, seed=1, valid_check=False)\n",
    "noisy_counts = noisy_aer_b.get_result(noisy_handle).get_counts()\n",
    "print(noisy_counts)"
   ]
  }
 ],
 "metadata": {
  "kernelspec": {
   "display_name": "Python 3",
   "language": "python",
   "name": "python3"
  },
  "language_info": {
   "codemirror_mode": {
    "name": "ipython",
    "version": 3
   },
   "file_extension": ".py",
   "mimetype": "text/x-python",
   "name": "python",
   "nbconvert_exporter": "python",
   "pygments_lexer": "ipython3",
   "version": "3.11.4"
  },
  "orig_nbformat": 4
 },
 "nbformat": 4,
 "nbformat_minor": 2
}
