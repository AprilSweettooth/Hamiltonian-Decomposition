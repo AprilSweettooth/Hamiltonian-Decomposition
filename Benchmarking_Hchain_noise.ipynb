{
 "cells": [
  {
   "cell_type": "markdown",
   "metadata": {},
   "source": [
    "# Import"
   ]
  },
  {
   "cell_type": "code",
   "execution_count": 1,
   "metadata": {},
   "outputs": [],
   "source": [
    "from qDrift.hamsimqDrift import AlgorithmHamSimqDrift\n",
    "from pytket.circuit import Circuit\n",
    "from openfermion.utils.operator_utils import count_qubits\n",
    "\n",
    "from utils.func import *\n",
    "from utils.term_grouping import *\n",
    "from utils.min_clique import *\n",
    "from utils.hamlib import *\n",
    "from utils.evol_real import *\n",
    "from utils.plot import *\n",
    "from utils.driver import *\n",
    "from utils.JW import *\n",
    "\n",
    "from Pauli_Gadgets.paulis import *\n",
    "\n",
    "import numpy as np\n",
    "import matplotlib.pyplot as plt\n",
    "\n",
    "def gen_sys_param(n=10, sample_steps=100000, N=1):\n",
    "    global t_max\n",
    "    global initial_state_circ\n",
    "    global n_qdrift_steps\n",
    "    global sample_space\n",
    "    global seg\n",
    "    global t_list\n",
    "\n",
    "    t_list = [0.5,1,2,5]\n",
    "    t_max=t_list[-1]\n",
    "    seg = N\n",
    "    initial_state_circ = Circuit(n)\n",
    "    for i in range(n):\n",
    "        initial_state_circ.H(i)\n",
    "    n_qdrift_steps = sample_steps\n",
    "    sample_space = np.arange(0,sample_steps+1,1)"
   ]
  },
  {
   "cell_type": "markdown",
   "metadata": {},
   "source": [
    "# Hydrogen chain"
   ]
  },
  {
   "cell_type": "code",
   "execution_count": 2,
   "metadata": {},
   "outputs": [
    {
     "name": "stdout",
     "output_type": "stream",
     "text": [
      "converged SCF energy = -1.52399620024611\n"
     ]
    }
   ],
   "source": [
    "driver = PySCFDriver_custom()\n",
    "bond_length = 1.0\n",
    "n_sites = 3\n",
    "driver.load_molecule(\n",
    "    atom=[('H', (0, 0, i * bond_length)) for i in range(n_sites)], # Create a molecular data object for the hydrogen chain\n",
    "    basis=\"sto-3g\",          # Basis set for quantum chemistry calculation\n",
    "    multiplicity=1,          # Spin multiplicity for molecule, since the total spin of H2O is S=0，its spin multiplicity is 2S+1=1\n",
    "    charge=0,                 # Total charge of molecule, since H2O is charge neutral, its charge=0\n",
    "    unit=\"Angstrom\"\n",
    ")\n",
    "driver.run_scf()             # Perform Hartree Fock calculation\n",
    "\n",
    "# np.set_printoptions(precision=4, linewidth=150)\n",
    "\n",
    "hpq = driver.get_onebody_tensor(\"int1e_kin\") + driver.get_onebody_tensor(\"int1e_nuc\")\n",
    "vpqrs = driver.get_twobody_tensor()\n",
    "# assert np.shape(hpq)==(7, 7)             # H2O has 7 orbitals when using STO-3G basis.\n",
    "# assert np.shape(vpqrs)==(7, 7, 7, 7)\n",
    "\n",
    "# print(hpq)\n",
    "operator = get_molecular_hamiltonian(hpq,vpqrs,driver)\n",
    "n_qubits = count_qubits(operator)\n",
    "number, coulomb, hopping, no_excitation, double_excitation = JW_transformation(operator)\n",
    "numbers, coulombs, hoppings, no_excitations, double_excitations = JW_transformation(operator,True)\n",
    "\n",
    "number_op, number_co = convert_op_to_input(number,n_qubits)\n",
    "hopping_op, hopping_co = convert_op_to_input(hopping,n_qubits)\n",
    "coulomb_op, coulomb_co = convert_op_to_input(coulomb,n_qubits)\n",
    "no_excitation_op, no_excitation_co = convert_op_to_input(no_excitation,n_qubits)\n",
    "double_excitation_op, double_excitation_co = convert_op_to_input(double_excitation,n_qubits)\n",
    "\n",
    "numbers_op, numbers_co = convert_op_to_input(numbers,n_qubits,True)\n",
    "hoppings_op, hoppings_co = convert_twobody_op_to_input(hoppings,n_qubits,True)\n",
    "coulombs_op, coulombs_co = convert_op_to_input(list(coulombs),n_qubits,True)\n",
    "no_excitations_op, no_excitations_co = convert_twobody_op_to_input(list(no_excitations),n_qubits,True)\n",
    "double_excitations_op, double_excitations_co = convert_twobody_op_to_input(list(double_excitations),n_qubits,True)\n",
    "\n",
    "# max_part_group = [[number_op[0], number_op[-2],hopping_op[0], hopping_op[1]],number_op[2:4],[number_op[1], number_op[-1], hopping_op[-2],hopping_op[-1]]]+coulombs_op+no_excitations_op+double_excitations_op\n",
    "# max_coeff = [[(number_co[0]+number_co[-2]+abs(hopping_co[0])*2)/4],[number_co[2]],[(number_co[0]+number_co[-2]+abs(hopping_co[0])*2)/4]]+coulombs_co+no_excitations_co+double_excitations_co\n",
    "# max_part_group, max_coeff = site_excitation_group(numbers_op,hoppings_op,numbers_co,hoppings_co)\n",
    "\n",
    "H_matrix = get_Hmatrix(number_op+hopping_op+coulomb_op+no_excitation_op+double_excitation_op,n_qubits,number_co+hopping_co+coulomb_co+no_excitation_co+double_excitation_co)"
   ]
  },
  {
   "cell_type": "code",
   "execution_count": 3,
   "metadata": {},
   "outputs": [],
   "source": [
    "# gen_sys_param(n=n_qubits,sample_steps=1000)\n",
    "# drift_time_evolution = AlgorithmHamSimqDrift(initial_state_circ,number_op+hopping_op+coulomb_op+no_excitation_op+double_excitation_op,number_co+hopping_co+coulomb_co+no_excitation_co+double_excitation_co,t_max,n_qdrift_steps,seg,noise=True)\n",
    "# U2p,secdepth = drift_time_evolution.trotter(order=2, protected=True,cheat=True)"
   ]
  },
  {
   "cell_type": "code",
   "execution_count": 4,
   "metadata": {},
   "outputs": [],
   "source": [
    "# gen_sys_param(n=n_qubits,sample_steps=2000)\n",
    "# drift_time_evolution = AlgorithmHamSimqDrift(initial_state_circ,number_op+hopping_op+coulomb_op+no_excitation_op+double_excitation_op,number_co+hopping_co+coulomb_co+no_excitation_co+double_excitation_co,t_max,n_qdrift_steps,seg,noise=True)\n",
    "# Ut,ldepth = drift_time_evolution.trotter(cheat=True)"
   ]
  },
  {
   "cell_type": "code",
   "execution_count": 5,
   "metadata": {},
   "outputs": [],
   "source": [
    "# gen_sys_param(n=n_qubits,sample_steps=2000)\n",
    "# drift_time_evolution = AlgorithmHamSimqDrift(initial_state_circ,number_op+hopping_op+coulomb_op+no_excitation_op+double_excitation_op,number_co+hopping_co+coulomb_co+no_excitation_co+double_excitation_co,t_max,n_qdrift_steps,seg,noise=True)\n",
    "# Utp,ldepth = drift_time_evolution.trotter(protected=True,cheat=True)"
   ]
  },
  {
   "cell_type": "code",
   "execution_count": 6,
   "metadata": {},
   "outputs": [],
   "source": [
    "gen_sys_param(n=n_qubits,sample_steps=1000)\n",
    "drift_time_evolution = AlgorithmHamSimqDrift(initial_state_circ,number_op+hopping_op+coulomb_op+no_excitation_op+double_excitation_op,number_co+hopping_co+coulomb_co+no_excitation_co+double_excitation_co,t_max,n_qdrift_steps,seg,noise=True)\n",
    "U2,secdepth = drift_time_evolution.trotter(order=2,cheat=True)"
   ]
  },
  {
   "cell_type": "code",
   "execution_count": 7,
   "metadata": {},
   "outputs": [],
   "source": [
    "# Urp_sum = []\n",
    "# for i in range(3):\n",
    "#     gen_sys_param(n=n_qubits,sample_steps=2000)\n",
    "#     drift_time_evolution = AlgorithmHamSimqDrift(initial_state_circ,number_op+hopping_op+coulomb_op+no_excitation_op+double_excitation_op,number_co+hopping_co+coulomb_co+no_excitation_co+double_excitation_co,t_max,n_qdrift_steps,seg)\n",
    "#     Urp_i,rpdepth = drift_time_evolution.trotter(rand=True, cheat=True)\n",
    "#     Urp_sum.append(Urp_i)\n",
    "# Urp = [np.add(np.add(np.array(Urp_sum[0][i]),np.array(Urp_sum[1][i])),np.array(Urp_sum[2][i]))/3 for i in range(len(Urp_sum[0]))]"
   ]
  },
  {
   "cell_type": "code",
   "execution_count": 8,
   "metadata": {},
   "outputs": [],
   "source": [
    "gen_sys_param(n=n_qubits,sample_steps=secdepth[-1])\n",
    "drift_time_evolution = AlgorithmHamSimqDrift(initial_state_circ,numbers_op+hoppings_op+coulombs_op+no_excitations_op+double_excitations_op,numbers_co+hoppings_co+coulombs_co+no_excitations_co+double_excitations_co,t_max,n_qdrift_steps,seg,M=3,noise=True)\n",
    "Um,sm,mdepth = drift_time_evolution.Drift_exp(depth=secdepth[-1], cheat=True)\n",
    "Um= [[Um[j][0][i] for i in range(len(Um[j][0]))] for j in range(len(Um))]\n",
    "mdepth = [[mdepth[j][0][i] for i in range(len(mdepth[j][0]))] for j in range(len(mdepth))]"
   ]
  },
  {
   "cell_type": "code",
   "execution_count": 9,
   "metadata": {},
   "outputs": [],
   "source": [
    "# Vmp, coeffmp = perm_ops(t_list,mdepth,sm)"
   ]
  },
  {
   "cell_type": "code",
   "execution_count": 10,
   "metadata": {},
   "outputs": [],
   "source": [
    "# gen_sys_param(n=n_qubits,sample_steps=secdepth[-1])\n",
    "# drift_time_evolution = AlgorithmHamSimqDrift(initial_state_circ,numbers_op+hoppings_op+coulombs_op+no_excitations_op+double_excitations_op,numbers_co+hoppings_co+coulombs_co+no_excitations_co+double_excitations_co,t_max,n_qdrift_steps,seg,M=3,noise=True)\n",
    "# Ump,smp,mdepthp = drift_time_evolution.Drift_exp(sampled=[Vmp,coeffmp,sm[-1]],depth=secdepth[-1], cheat=True)\n",
    "# Ump= [[Ump[j][0][i] for i in range(len(Ump[j][0]))] for j in range(len(Ump))]\n",
    "# mdepthp = [[mdepthp[j][0][i] for i in range(len(mdepthp[j][0]))] for j in range(len(mdepthp))]"
   ]
  },
  {
   "cell_type": "code",
   "execution_count": 11,
   "metadata": {},
   "outputs": [],
   "source": [
    "gen_sys_param(n=n_qubits,sample_steps=secdepth[-1])\n",
    "drift_time_evolution_parity = AlgorithmHamSimqDrift(initial_state_circ,[[h] for h in number_op+hopping_op+coulomb_op+no_excitation_op+double_excitation_op],[[c] for c in number_co+hopping_co+coulomb_co+no_excitation_co+double_excitation_co],t_max,n_qdrift_steps,seg,M=3)\n",
    "Uq,sq,qdepth = drift_time_evolution_parity.Drift_exp(depth=secdepth[-1], cheat=True)\n",
    "Uq= [[Uq[j][0][i] for i in range(len(Uq[j][0]))] for j in range(len(Uq))]\n",
    "qdepth = [[qdepth[j][0][i] for i in range(len(qdepth[j][0]))] for j in range(len(qdepth))]"
   ]
  },
  {
   "cell_type": "code",
   "execution_count": 12,
   "metadata": {},
   "outputs": [],
   "source": [
    "# Vqp, coeffqp = perm_ops(t_list,qdepth,sq)"
   ]
  },
  {
   "cell_type": "code",
   "execution_count": 13,
   "metadata": {},
   "outputs": [],
   "source": [
    "# gen_sys_param(n=n_qubits,sample_steps=secdepth[-1])\n",
    "# drift_time_evolution_parity = AlgorithmHamSimqDrift(initial_state_circ,[[h] for h in number_op+hopping_op+coulomb_op+no_excitation_op+double_excitation_op],[[c] for c in number_co+hopping_co+coulomb_co+no_excitation_co+double_excitation_co],t_max,n_qdrift_steps,seg,M=3,noise=True)\n",
    "# Uqp,sqp,qdepthp = drift_time_evolution_parity.Drift_exp(sampled=[Vqp,coeffqp,sq[-1]],depth=secdepth[-1], cheat=True)\n",
    "# Uqp= [[Uqp[j][0][i] for i in range(len(Uqp[j][0]))] for j in range(len(Uqp))]\n",
    "# qdepthp = [[qdepthp[j][0][i] for i in range(len(qdepthp[j][0]))] for j in range(len(qdepthp))]"
   ]
  },
  {
   "cell_type": "code",
   "execution_count": 14,
   "metadata": {},
   "outputs": [],
   "source": [
    "gen_sys_param(n=n_qubits,sample_steps=secdepth[-1])\n",
    "Uexc = U_exc(drift_time_evolution.circuit.get_unitary(),n_qdrift_steps,t_max, H_matrix)"
   ]
  },
  {
   "cell_type": "code",
   "execution_count": 15,
   "metadata": {},
   "outputs": [],
   "source": [
    "# u2p = extract_U_at_t(t_list,U2p,secdepth)\n",
    "# ut = extract_U_at_t(t_list,Ut,ldepth)\n",
    "# utp = extract_U_at_t(t_list,Utp,ldepth)\n",
    "# u2 = extract_U_at_t(t_list,U2,secdepth)\n",
    "# urp = extract_U_at_t(t_list,Urp,rpdepth)\n",
    "# # um_ave = extract_U_at_t(t_list,ave_m,ave_mdepth)\n",
    "# # uq_ave = extract_U_at_t(t_list,ave_q,ave_qdepth)\n",
    "uexc = extract_U_at_t(t_list,Uexc,secdepth)\n",
    "# m_mean,m_std = Monte_Carlo_ave(t_list,Um,mdepth,uexc,M=3)\n",
    "# # g_mean,g_std = Monte_Carlo_ave(t_list,Ug,gdepth,uexc,M=3)\n",
    "# q_mean,q_std = Monte_Carlo_ave(t_list,Uq,qdepth,uexc,M=3)"
   ]
  },
  {
   "cell_type": "code",
   "execution_count": 16,
   "metadata": {},
   "outputs": [],
   "source": [
    "# um_spec_ave = cal_std_drift(Um, Uexc, t_list, mdepth, secdepth,True)\n",
    "# uq_spec_ave = cal_std_drift(Uq, Uexc, t_list, qdepth, secdepth, True)\n",
    "# ump_spec_ave = cal_std_drift(Ump, Uexc, t_list, mdepthp, secdepth,True)\n",
    "# uqp_spec_ave = cal_std_drift(Uqp, Uexc, t_list, qdepthp, secdepth, True)"
   ]
  },
  {
   "cell_type": "code",
   "execution_count": 17,
   "metadata": {},
   "outputs": [],
   "source": [
    "# um_spec_mean, um_spec_std = cal_std_drift(Um, Uexc, t_list, mdepth, secdepth)\n",
    "# uq_spec_mean, uq_spec_std = cal_std_drift(Uq, Uexc, t_list, qdepth, secdepth)\n",
    "# ump_spec_mean, ump_spec_std = cal_std_drift(Ump, Uexc, t_list, mdepthp, secdepth)\n",
    "# uqp_spec_mean, uqp_spec_std = cal_std_drift(Uqp, Uexc, t_list, qdepthp, secdepth)"
   ]
  },
  {
   "cell_type": "code",
   "execution_count": 18,
   "metadata": {},
   "outputs": [],
   "source": [
    "um = [extract_U_at_t(t_list,Um[i],secdepth) for i in range(len(Um))]\n",
    "um_spec = [[np.abs(linalg.eig(u - u_exc)[0]).max() for u,u_exc in zip(um[i],uexc)] for i in range(len(um))]\n",
    "uq = [extract_U_at_t(t_list,Uq[i],secdepth) for i in range(len(Uq))]\n",
    "uq_spec = [[np.abs(linalg.eig(u - u_exc)[0]).max() for u,u_exc in zip(uq[i],uexc)] for i in range(len(uq))]\n",
    "\n",
    "# ump = [extract_U_at_t(t_list,Ump[i],secdepth) for i in range(len(Ump))]\n",
    "# ump_spec = [[np.abs(linalg.eig(u - u_exc)[0]).max() for u,u_exc in zip(ump[i],uexc)] for i in range(len(ump))]\n",
    "# uqp = [extract_U_at_t(t_list,Uqp[i],secdepth) for i in range(len(Uqp))]\n",
    "# uqp_spec = [[np.abs(linalg.eig(u - u_exc)[0]).max() for u,u_exc in zip(uqp[i],uexc)] for i in range(len(uqp))]"
   ]
  },
  {
   "cell_type": "code",
   "execution_count": 25,
   "metadata": {},
   "outputs": [
    {
     "name": "stdout",
     "output_type": "stream",
     "text": [
      "0.0034735604786311682 0.004657640412824799\n"
     ]
    }
   ],
   "source": [
    "print(np.mean(um_spec,axis=0)[2],np.mean(uq_spec,axis=0)[2])"
   ]
  },
  {
   "cell_type": "code",
   "execution_count": 20,
   "metadata": {},
   "outputs": [],
   "source": [
    "# fig, ax = plt.subplots()\n",
    "# ts = [0]+t_list\n",
    "# ax.errorbar([0]+t_list,um_spec_ave, xerr=extract_depth_at_t(t_list,mdepth), yerr=ump_spec_std, label='physDrift',c='r')\n",
    "# ax.errorbar([0]+t_list,uq_spec_ave, xerr=extract_depth_at_t(t_list,qdepth), yerr=uqp_spec_std, label='qDrift',c='b')\n",
    "# ax.set_xlabel(r'$t_{ma}x}(s)$')\n",
    "# ax.set_ylabel('Spectral error')\n",
    "# ax.set_title(r'Exact spectral error over different $t_{max}$', pad=15) \n",
    "# ax2 = ax.secondary_xaxis('top')\n",
    "# ax2.set_xlabel('No. Pauli Gadgets')\n",
    "# ax2.tick_params(axis='x', color='black')\n",
    "# ax2.set_xticks(ts, labels=[str(int(t/t_list[-1]*secdepth[-1])) for t in ts], minor=False)\n",
    "# plt.legend()\n",
    "# plt.show()"
   ]
  },
  {
   "cell_type": "code",
   "execution_count": 21,
   "metadata": {},
   "outputs": [],
   "source": [
    "# fig, ax = plt.subplots()\n",
    "# ts = [0]+t_list\n",
    "# ax.errorbar([0]+t_list,ump_spec_ave, xerr=extract_depth_at_t(t_list,mdepth), label='physDrift',c='r')\n",
    "# ax.errorbar([0]+t_list,uqp_spec_ave, xerr=extract_depth_at_t(t_list,qdepth),label='qDrift',c='b')\n",
    "# ax.set_xlabel(r'$t_{ma}x}(s)$')\n",
    "# ax.set_ylabel('Spectral error')\n",
    "# ax.set_title(r'Exact spectral error over different $t_{max}$ with perm', pad=15) \n",
    "# ax2 = ax.secondary_xaxis('top')\n",
    "# ax2.set_xlabel('No. Pauli Gadgets')\n",
    "# ax2.tick_params(axis='x', color='black')\n",
    "# ax2.set_xticks(ts, labels=[str(int(t/t_list[-1]*secdepth[-1])) for t in ts], minor=False)\n",
    "# plt.legend()\n",
    "# plt.show()"
   ]
  },
  {
   "cell_type": "code",
   "execution_count": 22,
   "metadata": {},
   "outputs": [],
   "source": [
    "# fig, ax = plt.subplots()\n",
    "# ts = [0]+t_list\n",
    "# # ax.errorbar([0]+t_list,um_spec_mean, xerr=extract_depth_at_t(t_list,mdepth),yerr=um_spec_std, label='physDrift',c='r')\n",
    "# # ax.errorbar([0]+t_list,uq_spec_mean, xerr=extract_depth_at_t(t_list,qdepth),yerr=uq_spec_std, label='qDrift',c='b')\n",
    "# ax.errorbar([0]+t_list,np.mean(um_spec,axis=0), xerr=extract_depth_at_t(t_list,mdepth),yerr=np.std(um_spec,axis=0), label='physDrift',c='r')\n",
    "# ax.errorbar([0]+t_list,np.mean(uq_spec,axis=0), xerr=extract_depth_at_t(t_list,qdepth),yerr=np.std(uq_spec,axis=0), label='qDrift',c='b')\n",
    "# for i in range(len(um_spec)):\n",
    "#     ax.scatter([0]+t_list,um_spec[i],marker='x',s=5,color='r')\n",
    "# for i in range(len(uq_spec)):\n",
    "#     ax.scatter([0]+t_list,uq_spec[i],marker='x',s=5,color='b')\n",
    "# ax.set_xlabel(r'$t_{max}(s)$')\n",
    "# ax.set_ylabel(r'Spectral error')\n",
    "# ax.set_title(r'Spectral error over $t_{max}$', pad=15) \n",
    "# ax2 = ax.secondary_xaxis('top')\n",
    "# ax2.set_xlabel('No. Pauli Gadgets')\n",
    "# ax2.tick_params(axis='x', color='black')\n",
    "# ax2.set_xticks(ts, labels=[str(int(t/t_list[-1]*secdepth[-1])) for t in ts], minor=False)\n",
    "# plt.legend()\n",
    "# plt.show()"
   ]
  },
  {
   "cell_type": "code",
   "execution_count": 23,
   "metadata": {},
   "outputs": [],
   "source": [
    "# fig, ax = plt.subplots()\n",
    "# ts = [0]+t_list\n",
    "# # ax.errorbar([0]+t_list,ump_spec_mean, xerr=extract_depth_at_t(t_list,mdepthp),yerr=ump_spec_std, label='physDrift',c='r')\n",
    "# # ax.errorbar([0]+t_list,uqp_spec_mean, xerr=extract_depth_at_t(t_list,qdepthp),yerr=uqp_spec_std, label='qDrift',c='b')\n",
    "# ax.errorbar([0]+t_list,np.mean(ump_spec,axis=0), xerr=extract_depth_at_t(t_list,mdepth),yerr=np.std(ump_spec,axis=0), label='physDrift',c='r')\n",
    "# ax.errorbar([0]+t_list,np.mean(uqp_spec,axis=0), xerr=extract_depth_at_t(t_list,qdepth),yerr=np.std(uqp_spec,axis=0), label='qDrift',c='b')\n",
    "# for i in range(len(ump_spec)):\n",
    "#     ax.scatter([0]+t_list,ump_spec[i],marker='x',s=5,color='r')\n",
    "# for i in range(len(uqp_spec)):\n",
    "#     ax.scatter([0]+t_list,uqp_spec[i],marker='x',s=5,color='b')\n",
    "# ax.set_xlabel(r'$t_{max}(s)$')\n",
    "# ax.set_ylabel(r'Spectral error')\n",
    "# ax.set_title(r'Spectral error over $t_{max}$ with permutation', pad=15) \n",
    "# ax2 = ax.secondary_xaxis('top')\n",
    "# ax2.set_xlabel('No. Pauli Gadgets')\n",
    "# ax2.tick_params(axis='x', color='black')\n",
    "# ax2.set_xticks(ts, labels=[str(int(t/t_list[-1]*secdepth[-1])) for t in ts], minor=False)\n",
    "# plt.legend()\n",
    "# plt.show()"
   ]
  },
  {
   "cell_type": "code",
   "execution_count": 24,
   "metadata": {},
   "outputs": [],
   "source": [
    "# fig, ax = plt.subplots()\n",
    "# ts = [0]+t_list\n",
    "# ax.errorbar([0]+t_list,ump_spec_ave, xerr=extract_depth_at_t(t_list,mdepth), label='physDrift',c='r')\n",
    "# ax.errorbar([0]+t_list,uqp_spec_ave, xerr=extract_depth_at_t(t_list,qdepth),label='qDrift',c='b')\n",
    "# ax.plot([0]+t_list,[np.abs(linalg.eig(u - u_exc)[0]).max() for u,u_exc in zip(u2p,uexc)],label='second protection',c='pink')\n",
    "# ax.plot([0]+t_list,[np.abs(linalg.eig(u - u_exc)[0]).max() for u,u_exc in zip(u2,uexc)],label='second',c='purple')\n",
    "# ax.plot([0]+t_list,[np.abs(linalg.eig(u - u_exc)[0]).max() for u,u_exc in zip(urp,uexc)],label='rand perm',c='black')\n",
    "# ax.plot([0]+t_list,[np.abs(linalg.eig(u - u_exc)[0]).max() for u,u_exc in zip(utp,uexc)],label='lie protection',c='green')\n",
    "# ax.plot([0]+t_list,[np.abs(linalg.eig(u - u_exc)[0]).max() for u,u_exc in zip(ut,uexc)],label='lie',c='yellow')\n",
    "# ax.set_xlabel(r'$t_{max}(s)$')\n",
    "# ax.set_ylabel('Spectral error')\n",
    "# ax.set_title(r'Spectral error over $t_{max}$ comparison', pad=15) \n",
    "# ax2 = ax.secondary_xaxis('top')\n",
    "# ax2.set_xlabel('No. Pauli Gadgets')\n",
    "# ax2.tick_params(axis='x', color='black')\n",
    "# ax2.set_xticks(ts, labels=[str(int(t/t_list[-1]*secdepth[-1])) for t in ts], minor=False)\n",
    "# plt.legend()\n",
    "# plt.show()"
   ]
  }
 ],
 "metadata": {
  "kernelspec": {
   "display_name": "Python 3",
   "language": "python",
   "name": "python3"
  },
  "language_info": {
   "codemirror_mode": {
    "name": "ipython",
    "version": 3
   },
   "file_extension": ".py",
   "mimetype": "text/x-python",
   "name": "python",
   "nbconvert_exporter": "python",
   "pygments_lexer": "ipython3",
   "version": "3.11.4"
  },
  "orig_nbformat": 4
 },
 "nbformat": 4,
 "nbformat_minor": 2
}
