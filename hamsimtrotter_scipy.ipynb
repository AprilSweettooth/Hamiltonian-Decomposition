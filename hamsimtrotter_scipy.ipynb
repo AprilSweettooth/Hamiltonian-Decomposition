{
 "cells": [
  {
   "cell_type": "code",
   "execution_count": 11,
   "metadata": {},
   "outputs": [],
   "source": [
    "\n",
    "from pytket.pauli import Pauli, QubitPauliString\n",
    "from pytket.utils import QubitPauliOperator, gen_term_sequence_circuit\n",
    "from pytket.circuit import Circuit,Qubit,fresh_symbol, Qubit\n",
    "\n",
    "import numpy as np\n",
    "import matplotlib.pyplot as plt"
   ]
  },
  {
   "cell_type": "markdown",
   "metadata": {},
   "source": [
    "## Initial State"
   ]
  },
  {
   "cell_type": "code",
   "execution_count": 3,
   "metadata": {},
   "outputs": [],
   "source": [
    "initial_state_circ = Circuit(4)\n",
    "# initial_state_circ.X(0)\n",
    "# initial_state_circ.X(1)"
   ]
  },
  {
   "cell_type": "code",
   "execution_count": 3,
   "metadata": {},
   "outputs": [
    {
     "data": {
      "text/plain": [
       "[]"
      ]
     },
     "execution_count": 3,
     "metadata": {},
     "output_type": "execute_result"
    }
   ],
   "source": [
    "initial_state_circ.get_commands()"
   ]
  },
  {
   "cell_type": "markdown",
   "metadata": {},
   "source": [
    "## Hamiltonian\n",
    "- This is a random one I found"
   ]
  },
  {
   "cell_type": "code",
   "execution_count": 5,
   "metadata": {},
   "outputs": [],
   "source": [
    "# hamiltonian = QubitPauliOperator(\n",
    "#     {\n",
    "#         QubitPauliString(\n",
    "#             [Qubit(0), Qubit(1), Qubit(2), Qubit(3)],\n",
    "#             [Pauli.Z, Pauli.Z, Pauli.I, Pauli.I],\n",
    "#         ): 1,\n",
    "#         QubitPauliString(\n",
    "#             [Qubit(0), Qubit(1), Qubit(2), Qubit(3)],\n",
    "#             [Pauli.I, Pauli.Z, Pauli.Z, Pauli.I],\n",
    "#         ): 1,\n",
    "#         QubitPauliString(\n",
    "#             [Qubit(0), Qubit(1), Qubit(2), Qubit(3)],\n",
    "#             [Pauli.I, Pauli.I, Pauli.Z, Pauli.Z],\n",
    "#         ): 1,\n",
    "#         QubitPauliString([Qubit(0), Qubit(1), Qubit(2), Qubit(3)], [Pauli.X, Pauli.X, Pauli.X, Pauli.X]): 1,\n",
    "#     }\n",
    "# )\n",
    "t=fresh_symbol(\"a\")\n",
    "hamiltonian = QubitPauliOperator(\n",
    "    {\n",
    "        QubitPauliString([Qubit(0)], [Pauli.Z]): 0.1,\n",
    "        QubitPauliString(\n",
    "            [Qubit(0), Qubit(1), Qubit(2), Qubit(3)],\n",
    "            [Pauli.Y, Pauli.Z, Pauli.X, Pauli.X],\n",
    "        ): 1,\n",
    "        QubitPauliString([Qubit(0), Qubit(1)], [Pauli.X, Pauli.X]): 1,\n",
    "    }\n",
    ")\n",
    "# hamiltonian = QubitPauliOperator({QubitPauliString([Qubit(0)], [Pauli.Z]): t})"
   ]
  },
  {
   "cell_type": "code",
   "execution_count": 25,
   "metadata": {},
   "outputs": [],
   "source": [
    "from pytket.circuit import PauliExpBox, CircBox"
   ]
  },
  {
   "cell_type": "code",
   "execution_count": 47,
   "metadata": {},
   "outputs": [],
   "source": [
    "def ggen_term_sequence_circuit(\n",
    "    operator: QubitPauliOperator,\n",
    "    reference_state: Circuit,\n",
    "    partition_strat: PauliPartitionStrat = PauliPartitionStrat.CommutingSets,\n",
    "    colour_method: GraphColourMethod = GraphColourMethod.Lazy,\n",
    ") -> Circuit:\n",
    "    qps_list = list(operator._dict.keys())\n",
    "    qps_list_list = term_sequence(qps_list, partition_strat, colour_method)\n",
    "    n_qbs = reference_state.n_qubits\n",
    "    circ = reference_state.copy()\n",
    "    qbs = circ.qubits\n",
    "    for out_qps_list in qps_list_list: \n",
    "        circ_to_box = Circuit(n_qbs)\n",
    "        for qps in out_qps_list:\n",
    "            coeff = operator[qps]\n",
    "            qps_map = qps.map\n",
    "            if qps_map:\n",
    "                qubits = list()\n",
    "                paulis = list()\n",
    "                for qb, pauli in qps_map.items():\n",
    "                    qubits.append(qb)\n",
    "                    paulis.append(pauli)\n",
    "                pbox = PauliExpBox(paulis, coeff)\n",
    "                circ_to_box.add_pauliexpbox(pbox, qubits)\n",
    "            else:\n",
    "                circ_to_box.add_phase(-coeff / 2)\n",
    "        cbox = CircBox(circ_to_box)\n",
    "        circ.add_circbox(cbox, qbs)\n",
    "    return circ\n"
   ]
  },
  {
   "cell_type": "code",
   "execution_count": 50,
   "metadata": {},
   "outputs": [
    {
     "data": {
      "text/plain": [
       "[Rz(0.1) q[0];,\n",
       " H q[2];,\n",
       " H q[3];,\n",
       " V q[0];,\n",
       " CX q[3], q[2];,\n",
       " CX q[2], q[1];,\n",
       " CX q[1], q[0];,\n",
       " Rz(0.4) q[0];,\n",
       " CX q[1], q[0];,\n",
       " Vdg q[0];,\n",
       " CX q[2], q[1];,\n",
       " H q[0];,\n",
       " H q[1];,\n",
       " CX q[3], q[2];,\n",
       " CX q[1], q[0];,\n",
       " H q[2];,\n",
       " H q[3];,\n",
       " Rz(0.2) q[0];,\n",
       " CX q[1], q[0];,\n",
       " H q[0];,\n",
       " H q[1];]"
      ]
     },
     "execution_count": 50,
     "metadata": {},
     "output_type": "execute_result"
    }
   ],
   "source": [
    "a=ggen_term_sequence_circuit(\n",
    "                hamiltonian, Circuit(4), PauliPartitionStrat.CommutingSets, GraphColourMethod.Lazy\n",
    "            )\n",
    "Transform.DecomposeBoxes().apply(a)\n",
    "a.get_commands()"
   ]
  },
  {
   "cell_type": "code",
   "execution_count": 22,
   "metadata": {},
   "outputs": [],
   "source": [
    "from pytket.transform import Transform\n",
    "from pytket.utils import gen_term_sequence_circuit\n",
    "from pytket.partition import PauliPartitionStrat, GraphColourMethod, term_sequence"
   ]
  },
  {
   "cell_type": "code",
   "execution_count": 33,
   "metadata": {},
   "outputs": [
    {
     "data": {
      "text/plain": [
       "True"
      ]
     },
     "execution_count": 33,
     "metadata": {},
     "output_type": "execute_result"
    }
   ],
   "source": [
    "from pytket.pauli import QubitPauliString\n",
    "q = [Qubit(i) for i in range(4)]\n",
    "QubitPauliString.commutes_with(QubitPauliString([q[0], q[1], q[2], q[3]], [Pauli.Y, Pauli.Z, Pauli.X, Pauli.X]), QubitPauliString([q[0], q[1]], [Pauli.X, Pauli.X]))"
   ]
  },
  {
   "cell_type": "code",
   "execution_count": 40,
   "metadata": {},
   "outputs": [
    {
     "data": {
      "text/html": [
       "\n",
       "\n",
       "\n",
       "\n",
       "\n",
       "\n",
       "<div style=\"resize: vertical; overflow: auto; height: 400px; display: block\">\n",
       "    <iframe srcdoc=\"\n",
       "&lt;!DOCTYPE html&gt;\n",
       "&lt;html lang=&#34;en&#34;&gt;\n",
       "&lt;head&gt;\n",
       "    &lt;meta charset=&#34;UTF-8&#34;&gt;\n",
       "    &lt;!-- Download Vue 3--&gt;\n",
       "&lt;script type=&#34;application/javascript&#34; src=&#34;https://cdn.jsdelivr.net/npm/vue@3&#34;&gt;&lt;/script&gt;\n",
       "&lt;!-- Download Circuit Renderer with styles --&gt;\n",
       "&lt;script type=&#34;application/javascript&#34; src=&#34;https://unpkg.com/pytket-circuit-renderer@0.6/dist/pytket-circuit-renderer.umd.js&#34;&gt;&lt;/script&gt;\n",
       "&lt;link rel=&#34;stylesheet&#34; href=&#34;https://unpkg.com/pytket-circuit-renderer@0.6/dist/pytket-circuit-renderer.css&#34;&gt;\n",
       "&lt;/head&gt;\n",
       "&lt;body&gt;\n",
       "\n",
       "\n",
       "\n",
       "    &lt;div id=&#34;circuit-display-vue-container-896dd97d-10f3-4fba-9170-ba9cd8e671c0&#34; class=&#34;pytket-circuit-display-container&#34;&gt;\n",
       "        &lt;div style=&#34;display: none&#34;&gt;\n",
       "            &lt;div id=&#34;circuit-json-to-display&#34;&gt;{&#34;bits&#34;: [], &#34;commands&#34;: [{&#34;args&#34;: [[&#34;q&#34;, [1]]], &#34;op&#34;: {&#34;type&#34;: &#34;H&#34;}}, {&#34;args&#34;: [[&#34;q&#34;, [2]]], &#34;op&#34;: {&#34;type&#34;: &#34;V&#34;}}, {&#34;args&#34;: [[&#34;q&#34;, [3]], [&#34;q&#34;, [2]]], &#34;op&#34;: {&#34;type&#34;: &#34;CX&#34;}}, {&#34;args&#34;: [[&#34;q&#34;, [2]], [&#34;q&#34;, [1]]], &#34;op&#34;: {&#34;type&#34;: &#34;CX&#34;}}, {&#34;args&#34;: [[&#34;q&#34;, [1]]], &#34;op&#34;: {&#34;params&#34;: [&#34;0.75&#34;], &#34;type&#34;: &#34;Rz&#34;}}, {&#34;args&#34;: [[&#34;q&#34;, [2]], [&#34;q&#34;, [1]]], &#34;op&#34;: {&#34;type&#34;: &#34;CX&#34;}}, {&#34;args&#34;: [[&#34;q&#34;, [1]]], &#34;op&#34;: {&#34;type&#34;: &#34;H&#34;}}, {&#34;args&#34;: [[&#34;q&#34;, [3]], [&#34;q&#34;, [2]]], &#34;op&#34;: {&#34;type&#34;: &#34;CX&#34;}}, {&#34;args&#34;: [[&#34;q&#34;, [2]]], &#34;op&#34;: {&#34;type&#34;: &#34;Vdg&#34;}}], &#34;created_qubits&#34;: [], &#34;discarded_qubits&#34;: [], &#34;implicit_permutation&#34;: [[[&#34;q&#34;, [0]], [&#34;q&#34;, [0]]], [[&#34;q&#34;, [1]], [&#34;q&#34;, [1]]], [[&#34;q&#34;, [2]], [&#34;q&#34;, [2]]], [[&#34;q&#34;, [3]], [&#34;q&#34;, [3]]]], &#34;phase&#34;: &#34;0.0&#34;, &#34;qubits&#34;: [[&#34;q&#34;, [0]], [&#34;q&#34;, [1]], [&#34;q&#34;, [2]], [&#34;q&#34;, [3]]]}&lt;/div&gt;\n",
       "        &lt;/div&gt;\n",
       "        &lt;circuit-display-container\n",
       "                :circuit-element-str=&#34;&#39;#circuit-json-to-display&#39;&#34;\n",
       "                :init-render-options=&#34;initRenderOptions&#34;\n",
       "        &gt;&lt;/circuit-display-container&gt;\n",
       "    &lt;/div&gt;\n",
       "    &lt;script type=&#34;application/javascript&#34;&gt;\n",
       "      const circuitRendererUid = &#34;896dd97d-10f3-4fba-9170-ba9cd8e671c0&#34;;\n",
       "      const displayOptions = JSON.parse(&#39;{}&#39;);\n",
       "\n",
       "      // Script to initialise the circuit renderer app\n",
       "\n",
       "const { createApp } = Vue;\n",
       "const circuitDisplayContainer = window[&#34;pytket-circuit-renderer&#34;].default;\n",
       "// Init variables to be shared between circuit display instances\n",
       "if (typeof window.pytketCircuitDisplays === &#34;undefined&#34;) {\n",
       "    window.pytketCircuitDisplays = {};\n",
       "}\n",
       "// Create the root Vue component\n",
       "const app = createApp({\n",
       "    delimiters: [&#39;[[#&#39;, &#39;#]]&#39;],\n",
       "    components: { circuitDisplayContainer },\n",
       "    data () {\n",
       "      return {\n",
       "        initRenderOptions: displayOptions,\n",
       "      }\n",
       "    }\n",
       "})\n",
       "app.config.unwrapInjectedRef = true;\n",
       "app.mount(&#34;#circuit-display-vue-container-&#34;+circuitRendererUid);\n",
       "window.pytketCircuitDisplays[circuitRendererUid] = app;\n",
       "    &lt;/script&gt;\n",
       "\n",
       "\n",
       "\n",
       "&lt;/body&gt;\n",
       "&lt;/html&gt;\n",
       "\"\n",
       "            width=\"100%\" height=\"100%\"\n",
       "            style=\"border: none; outline: none; overflow: auto\"></iframe>\n",
       "</div>\n",
       "\n"
      ],
      "text/plain": [
       "<IPython.core.display.HTML object>"
      ]
     },
     "metadata": {},
     "output_type": "display_data"
    }
   ],
   "source": [
    "from pytket.circuit.display import render_circuit_jupyter\n",
    "pbox = PauliExpBox([Pauli.I, Pauli.X, Pauli.Y, Pauli.Z], 0.75)\n",
    "a = Circuit(4).add_pauliexpbox(pbox, [0, 1, 2, 3])\n",
    "Transform.DecomposeBoxes().apply(a)\n",
    "render_circuit_jupyter(a)"
   ]
  },
  {
   "cell_type": "code",
   "execution_count": 44,
   "metadata": {},
   "outputs": [
    {
     "data": {
      "text/plain": [
       "[[(Zq[0])], [(Yq[0], Zq[1], Xq[2], Xq[3]), (Xq[0], Xq[1])]]"
      ]
     },
     "execution_count": 44,
     "metadata": {},
     "output_type": "execute_result"
    }
   ],
   "source": [
    "term_sequence(list(hamiltonian._dict.keys()),PauliPartitionStrat.CommutingSets, GraphColourMethod.Lazy)"
   ]
  },
  {
   "cell_type": "code",
   "execution_count": 45,
   "metadata": {},
   "outputs": [
    {
     "ename": "TypeError",
     "evalue": "__getitem__(): incompatible function arguments. The following argument types are supported:\n    1. (self: pytket._tket.pauli.QubitPauliString, arg0: pytket._tket.circuit.Qubit) -> pytket._tket.pauli.Pauli\n\nInvoked with: (Zq[0]), 0",
     "output_type": "error",
     "traceback": [
      "\u001b[0;31m---------------------------------------------------------------------------\u001b[0m",
      "\u001b[0;31mTypeError\u001b[0m                                 Traceback (most recent call last)",
      "Cell \u001b[0;32mIn[45], line 1\u001b[0m\n\u001b[0;32m----> 1\u001b[0m a\u001b[39m=\u001b[39mggen_term_sequence_circuit(\n\u001b[1;32m      2\u001b[0m                 hamiltonian, Circuit(\u001b[39m4\u001b[39;49m), PauliPartitionStrat\u001b[39m.\u001b[39;49mCommutingSets, GraphColourMethod\u001b[39m.\u001b[39;49mLazy\n\u001b[1;32m      3\u001b[0m             )\n\u001b[1;32m      4\u001b[0m Transform\u001b[39m.\u001b[39mDecomposeBoxes()\u001b[39m.\u001b[39mapply(a)\n\u001b[1;32m      5\u001b[0m a\u001b[39m.\u001b[39mget_commands()\n",
      "Cell \u001b[0;32mIn[42], line 14\u001b[0m, in \u001b[0;36mggen_term_sequence_circuit\u001b[0;34m(operator, reference_state, partition_strat, colour_method)\u001b[0m\n\u001b[1;32m     12\u001b[0m \u001b[39mfor\u001b[39;00m out_qps_list \u001b[39min\u001b[39;00m qps_list: \n\u001b[1;32m     13\u001b[0m     circ_to_box \u001b[39m=\u001b[39m Circuit(n_qbs)\n\u001b[0;32m---> 14\u001b[0m     \u001b[39mfor\u001b[39;00m qps \u001b[39min\u001b[39;00m out_qps_list:\n\u001b[1;32m     15\u001b[0m         coeff \u001b[39m=\u001b[39m operator[qps]\n\u001b[1;32m     16\u001b[0m         qps_map \u001b[39m=\u001b[39m qps\u001b[39m.\u001b[39mmap\n",
      "\u001b[0;31mTypeError\u001b[0m: __getitem__(): incompatible function arguments. The following argument types are supported:\n    1. (self: pytket._tket.pauli.QubitPauliString, arg0: pytket._tket.circuit.Qubit) -> pytket._tket.pauli.Pauli\n\nInvoked with: (Zq[0]), 0"
     ]
    }
   ],
   "source": [
    "a=ggen_term_sequence_circuit(\n",
    "                hamiltonian, Circuit(4), PauliPartitionStrat.CommutingSets, GraphColourMethod.Lazy\n",
    "            )\n",
    "Transform.DecomposeBoxes().apply(a)\n",
    "a.get_commands()"
   ]
  },
  {
   "cell_type": "code",
   "execution_count": 9,
   "metadata": {},
   "outputs": [],
   "source": [
    "from pytket.transform import Transform\n",
    "from pytket.partition import PauliPartitionStrat, GraphColourMethod"
   ]
  },
  {
   "cell_type": "code",
   "execution_count": 56,
   "metadata": {},
   "outputs": [],
   "source": [
    "c = gen_term_sequence_circuit(\n",
    "                hamiltonian, initial_state_circ, PauliPartitionStrat.CommutingSets, GraphColourMethod.Lazy\n",
    "            )\n",
    "Transform.DecomposeBoxes().apply(c)\n",
    "symbol_dict1 = {t: 3}\n",
    "symbol_dict2 = {t: 2}\n",
    "a = c.copy()\n",
    "b = c.copy()\n",
    "a.symbol_substitution(symbol_dict1)\n",
    "b.symbol_substitution(symbol_dict2)"
   ]
  },
  {
   "cell_type": "code",
   "execution_count": 58,
   "metadata": {},
   "outputs": [
    {
     "data": {
      "text/plain": [
       "[Rz(3) q[0]; ]"
      ]
     },
     "execution_count": 58,
     "metadata": {},
     "output_type": "execute_result"
    }
   ],
   "source": [
    "a"
   ]
  },
  {
   "cell_type": "code",
   "execution_count": 45,
   "metadata": {},
   "outputs": [],
   "source": [
    "symbol_dict = {t: 3}\n",
    "# c.symbol_substitution(symbol_dict)"
   ]
  },
  {
   "cell_type": "code",
   "execution_count": 9,
   "metadata": {},
   "outputs": [],
   "source": [
    "from pytket.extensions.qiskit import AerStateBackend\n",
    "statevec = AerStateBackend().run_circuit(initial_state_circ).get_state()"
   ]
  },
  {
   "cell_type": "code",
   "execution_count": 46,
   "metadata": {},
   "outputs": [],
   "source": [
    "H = QubitPauliOperator(\n",
    "{\n",
    "    QubitPauliString([Qubit(0), Qubit(1)], [Pauli.Z, Pauli.Z]): t,\n",
    "    QubitPauliString([Qubit(1), Qubit(2)], [Pauli.Z, Pauli.Z]): t,\n",
    "    QubitPauliString([Qubit(2), Qubit(3)], [Pauli.Z, Pauli.Z]): t,\n",
    "    QubitPauliString([Qubit(3), Qubit(0)], [Pauli.Z, Pauli.Z]): t,\n",
    "\n",
    "    QubitPauliString([Qubit(0), Qubit(1)], [Pauli.X, Pauli.X]): t,\n",
    "    QubitPauliString([Qubit(1), Qubit(2)], [Pauli.X, Pauli.X]): t,\n",
    "    QubitPauliString([Qubit(2), Qubit(3)], [Pauli.X, Pauli.X]): t,\n",
    "    QubitPauliString([Qubit(3), Qubit(0)], [Pauli.X, Pauli.X]): t,\n",
    "    \n",
    "    QubitPauliString([Qubit(0), Qubit(1)], [Pauli.Y, Pauli.Y]): t,\n",
    "    QubitPauliString([Qubit(1), Qubit(2)], [Pauli.Y, Pauli.Y]): t,\n",
    "    QubitPauliString([Qubit(2), Qubit(3)], [Pauli.Y, Pauli.Y]): t,\n",
    "    QubitPauliString([Qubit(3), Qubit(0)], [Pauli.Y, Pauli.Y]): t,\n",
    "\n",
    "    QubitPauliString([Qubit(0)],[Pauli.Z]): t,\n",
    "    QubitPauliString([Qubit(1)],[Pauli.Z]): t,\n",
    "    QubitPauliString([Qubit(2)],[Pauli.Z]): t,\n",
    "    QubitPauliString([Qubit(3)],[Pauli.Z]): t\n",
    "}) "
   ]
  },
  {
   "cell_type": "code",
   "execution_count": 15,
   "metadata": {},
   "outputs": [
    {
     "ename": "TypeError",
     "evalue": "Cannot convert expression to float",
     "output_type": "error",
     "traceback": [
      "\u001b[0;31m---------------------------------------------------------------------------\u001b[0m",
      "\u001b[0;31mTypeError\u001b[0m                                 Traceback (most recent call last)",
      "Cell \u001b[0;32mIn[15], line 1\u001b[0m\n\u001b[0;32m----> 1\u001b[0m H\u001b[39m.\u001b[39;49mstate_expectation(statevec, [Qubit(\u001b[39m0\u001b[39;49m),Qubit(\u001b[39m1\u001b[39;49m),Qubit(\u001b[39m2\u001b[39;49m),Qubit(\u001b[39m3\u001b[39;49m)])\n",
      "File \u001b[0;32m/usr/local/lib/python3.11/site-packages/pytket/utils/operators.py:337\u001b[0m, in \u001b[0;36mQubitPauliOperator.state_expectation\u001b[0;34m(self, state, qubits)\u001b[0m\n\u001b[1;32m    318\u001b[0m \u001b[39m\u001b[39m\u001b[39m\"\"\"Calculates the expectation value of the given statevector with respect\u001b[39;00m\n\u001b[1;32m    319\u001b[0m \u001b[39mto the operator, mapping qubits to indexes according to ``qubits``.\u001b[39;00m\n\u001b[1;32m    320\u001b[0m \n\u001b[0;32m   (...)\u001b[0m\n\u001b[1;32m    332\u001b[0m \u001b[39m:rtype: complex\u001b[39;00m\n\u001b[1;32m    333\u001b[0m \u001b[39m\"\"\"\u001b[39;00m\n\u001b[1;32m    334\u001b[0m indexed_state \u001b[39m=\u001b[39m [state, qubits] \u001b[39mif\u001b[39;00m qubits \u001b[39melse\u001b[39;00m [state]\n\u001b[1;32m    335\u001b[0m \u001b[39mreturn\u001b[39;00m cast(\n\u001b[1;32m    336\u001b[0m     \u001b[39mcomplex\u001b[39m,\n\u001b[0;32m--> 337\u001b[0m     \u001b[39msum\u001b[39;49m(\n\u001b[1;32m    338\u001b[0m         \u001b[39mcomplex\u001b[39;49m(coeff) \u001b[39m*\u001b[39;49m pauli\u001b[39m.\u001b[39;49mstate_expectation(\u001b[39m*\u001b[39;49mindexed_state)\n\u001b[1;32m    339\u001b[0m         \u001b[39mfor\u001b[39;49;00m pauli, coeff \u001b[39min\u001b[39;49;00m \u001b[39mself\u001b[39;49m\u001b[39m.\u001b[39;49m_dict\u001b[39m.\u001b[39;49mitems()\n\u001b[1;32m    340\u001b[0m     ),\n\u001b[1;32m    341\u001b[0m )\n",
      "File \u001b[0;32m/usr/local/lib/python3.11/site-packages/pytket/utils/operators.py:338\u001b[0m, in \u001b[0;36m<genexpr>\u001b[0;34m(.0)\u001b[0m\n\u001b[1;32m    318\u001b[0m \u001b[39m\u001b[39m\u001b[39m\"\"\"Calculates the expectation value of the given statevector with respect\u001b[39;00m\n\u001b[1;32m    319\u001b[0m \u001b[39mto the operator, mapping qubits to indexes according to ``qubits``.\u001b[39;00m\n\u001b[1;32m    320\u001b[0m \n\u001b[0;32m   (...)\u001b[0m\n\u001b[1;32m    332\u001b[0m \u001b[39m:rtype: complex\u001b[39;00m\n\u001b[1;32m    333\u001b[0m \u001b[39m\"\"\"\u001b[39;00m\n\u001b[1;32m    334\u001b[0m indexed_state \u001b[39m=\u001b[39m [state, qubits] \u001b[39mif\u001b[39;00m qubits \u001b[39melse\u001b[39;00m [state]\n\u001b[1;32m    335\u001b[0m \u001b[39mreturn\u001b[39;00m cast(\n\u001b[1;32m    336\u001b[0m     \u001b[39mcomplex\u001b[39m,\n\u001b[1;32m    337\u001b[0m     \u001b[39msum\u001b[39m(\n\u001b[0;32m--> 338\u001b[0m         \u001b[39mcomplex\u001b[39;49m(coeff) \u001b[39m*\u001b[39m pauli\u001b[39m.\u001b[39mstate_expectation(\u001b[39m*\u001b[39mindexed_state)\n\u001b[1;32m    339\u001b[0m         \u001b[39mfor\u001b[39;00m pauli, coeff \u001b[39min\u001b[39;00m \u001b[39mself\u001b[39m\u001b[39m.\u001b[39m_dict\u001b[39m.\u001b[39mitems()\n\u001b[1;32m    340\u001b[0m     ),\n\u001b[1;32m    341\u001b[0m )\n",
      "File \u001b[0;32m/usr/local/lib/python3.11/site-packages/sympy/core/expr.py:356\u001b[0m, in \u001b[0;36mExpr.__complex__\u001b[0;34m(self)\u001b[0m\n\u001b[1;32m    354\u001b[0m result \u001b[39m=\u001b[39m \u001b[39mself\u001b[39m\u001b[39m.\u001b[39mevalf()\n\u001b[1;32m    355\u001b[0m re, im \u001b[39m=\u001b[39m result\u001b[39m.\u001b[39mas_real_imag()\n\u001b[0;32m--> 356\u001b[0m \u001b[39mreturn\u001b[39;00m \u001b[39mcomplex\u001b[39m(\u001b[39mfloat\u001b[39m(re), \u001b[39mfloat\u001b[39m(im))\n",
      "File \u001b[0;32m/usr/local/lib/python3.11/site-packages/sympy/core/expr.py:351\u001b[0m, in \u001b[0;36mExpr.__float__\u001b[0;34m(self)\u001b[0m\n\u001b[1;32m    349\u001b[0m \u001b[39mif\u001b[39;00m result\u001b[39m.\u001b[39mis_number \u001b[39mand\u001b[39;00m result\u001b[39m.\u001b[39mas_real_imag()[\u001b[39m1\u001b[39m]:\n\u001b[1;32m    350\u001b[0m     \u001b[39mraise\u001b[39;00m \u001b[39mTypeError\u001b[39;00m(\u001b[39m\"\u001b[39m\u001b[39mCannot convert complex to float\u001b[39m\u001b[39m\"\u001b[39m)\n\u001b[0;32m--> 351\u001b[0m \u001b[39mraise\u001b[39;00m \u001b[39mTypeError\u001b[39;00m(\u001b[39m\"\u001b[39m\u001b[39mCannot convert expression to float\u001b[39m\u001b[39m\"\u001b[39m)\n",
      "\u001b[0;31mTypeError\u001b[0m: Cannot convert expression to float"
     ]
    }
   ],
   "source": [
    "H.state_expectation(statevec, [Qubit(0),Qubit(1),Qubit(2),Qubit(3)])"
   ]
  },
  {
   "cell_type": "code",
   "execution_count": 47,
   "metadata": {},
   "outputs": [
    {
     "data": {
      "text/plain": [
       "(8+0j)"
      ]
     },
     "execution_count": 47,
     "metadata": {},
     "output_type": "execute_result"
    }
   ],
   "source": [
    "a=(QubitPauliOperator.from_list(H.to_list()))\n",
    "a.subs({t:1})\n",
    "a.state_expectation(statevec, [Qubit(0),Qubit(1),Qubit(2),Qubit(3)])"
   ]
  },
  {
   "cell_type": "code",
   "execution_count": 61,
   "metadata": {},
   "outputs": [
    {
     "name": "stdout",
     "output_type": "stream",
     "text": [
      "{(Xq[0], Xq[1]): 1.00000000000000, (Yq[0], Zq[1], Xq[2], Xq[3]): 1.00000000000000, (Zq[0]): 0.100000000000000}\n",
      "     ┌───┐┌───┐┌───────┐┌───┐┌───┐┌────┐┌───┐┌───────┐┌───┐┌──────┐┌──────────┐»\n",
      "q_0: ┤ H ├┤ X ├┤ Rz(π) ├┤ X ├┤ H ├┤ √X ├┤ X ├┤ Rz(π) ├┤ X ├┤ √Xdg ├┤ Rz(π/10) ├»\n",
      "     ├───┤└─┬─┘└───────┘└─┬─┘├───┤├───┬┘└─┬─┘└───────┘└─┬─┘└┬───┬─┘└──────────┘»\n",
      "q_1: ┤ H ├──■─────────────■──┤ H ├┤ X ├───■─────────────■───┤ X ├──────────────»\n",
      "     ├───┤┌───┐              └───┘└─┬─┘                     └─┬─┘     ┌───┐    »\n",
      "q_2: ┤ H ├┤ X ├─────────────────────■─────────────────────────■───────┤ X ├────»\n",
      "     ├───┤└─┬─┘                                                       └─┬─┘    »\n",
      "q_3: ┤ H ├──■───────────────────────────────────────────────────────────■──────»\n",
      "     └───┘                                                                     »\n",
      "«          \n",
      "«q_0: ─────\n",
      "«          \n",
      "«q_1: ─────\n",
      "«     ┌───┐\n",
      "«q_2: ┤ H ├\n",
      "«     ├───┤\n",
      "«q_3: ┤ H ├\n",
      "«     └───┘\n"
     ]
    }
   ],
   "source": [
    "from pytket.partition import PauliPartitionStrat, GraphColourMethod\n",
    "from pytket.extensions.qiskit import tk_to_qiskit\n",
    "from pytket.transform import Transform\n",
    "ansatz_circuit = gen_term_sequence_circuit(\n",
    "    hamiltonian, Circuit(4), PauliPartitionStrat.CommutingSets, GraphColourMethod.Lazy\n",
    ")\n",
    "Transform.DecomposeBoxes().apply(ansatz_circuit)\n",
    "# print(tk_to_qiskit(ansatz_circuit))\n",
    "rev = QubitPauliOperator.from_list(hamiltonian.to_list()[::-1])\n",
    "print(rev)\n",
    "cir = gen_term_sequence_circuit(\n",
    "    rev, Circuit(4), PauliPartitionStrat.CommutingSets, GraphColourMethod.Lazy\n",
    ")\n",
    "Transform.DecomposeBoxes().apply(cir)\n",
    "print(tk_to_qiskit(cir))"
   ]
  },
  {
   "cell_type": "code",
   "execution_count": 18,
   "metadata": {},
   "outputs": [
    {
     "data": {
      "text/plain": [
       "(0.1+0j)"
      ]
     },
     "execution_count": 18,
     "metadata": {},
     "output_type": "execute_result"
    }
   ],
   "source": [
    "hamiltonian.state_expectation(statevec, [Qubit(0),Qubit(1),Qubit(2),Qubit(3)])"
   ]
  },
  {
   "cell_type": "code",
   "execution_count": 56,
   "metadata": {},
   "outputs": [
    {
     "data": {
      "text/plain": [
       "{(Zq[0]): 0.100000000000000, (Xq[0], Xq[1]): 0.200000000000000, (Yq[0], Zq[1], Xq[2], Xq[3]): 0.400000000000000}"
      ]
     },
     "execution_count": 56,
     "metadata": {},
     "output_type": "execute_result"
    }
   ],
   "source": [
    "import itertools as it\n",
    "QubitPauliOperator.from_list(list(it.permutations(hamiltonian.to_list()))[1])"
   ]
  },
  {
   "cell_type": "code",
   "execution_count": 14,
   "metadata": {},
   "outputs": [
    {
     "data": {
      "text/plain": [
       "{(Zq[0]): 1, (Yq[0], Zq[1], Xq[2], Xq[3]): 0.400000000000000, (Xq[0], Xq[1]): 0.200000000000000}"
      ]
     },
     "execution_count": 14,
     "metadata": {},
     "output_type": "execute_result"
    }
   ],
   "source": [
    "hamiltonian"
   ]
  },
  {
   "cell_type": "code",
   "execution_count": 1,
   "metadata": {},
   "outputs": [],
   "source": [
    "from pytket.circuit import Circuit\n",
    "from pytket.utils import gen_term_sequence_circuit\n",
    "from pytket.partition import PauliPartitionStrat, GraphColourMethod"
   ]
  },
  {
   "cell_type": "code",
   "execution_count": 102,
   "metadata": {},
   "outputs": [],
   "source": [
    "reference_circ = Circuit(4).X(1).X(3)\n",
    "ansatz_circuit = gen_term_sequence_circuit(\n",
    "    hamiltonian, reference_circ, PauliPartitionStrat.CommutingSets, GraphColourMethod.Lazy\n",
    ")"
   ]
  },
  {
   "cell_type": "code",
   "execution_count": 110,
   "metadata": {},
   "outputs": [],
   "source": [
    "ansatz_circuit.append(ansatz_circuit)"
   ]
  },
  {
   "cell_type": "code",
   "execution_count": 111,
   "metadata": {},
   "outputs": [
    {
     "data": {
      "text/plain": [
       "[X q[1]; X q[3]; CircBox q[0], q[1], q[2], q[3]; CircBox q[0], q[1], q[2], q[3]; X q[1]; X q[3]; CircBox q[0], q[1], q[2], q[3]; CircBox q[0], q[1], q[2], q[3]; ]"
      ]
     },
     "execution_count": 111,
     "metadata": {},
     "output_type": "execute_result"
    }
   ],
   "source": [
    "ansatz_circuit"
   ]
  },
  {
   "cell_type": "code",
   "execution_count": 112,
   "metadata": {},
   "outputs": [
    {
     "data": {
      "text/html": [
       "\n",
       "\n",
       "\n",
       "\n",
       "\n",
       "\n",
       "<div style=\"resize: vertical; overflow: auto; height: 400px; display: block\">\n",
       "    <iframe srcdoc=\"\n",
       "&lt;!DOCTYPE html&gt;\n",
       "&lt;html lang=&#34;en&#34;&gt;\n",
       "&lt;head&gt;\n",
       "    &lt;meta charset=&#34;UTF-8&#34;&gt;\n",
       "    &lt;!-- Download Vue 3--&gt;\n",
       "&lt;script type=&#34;application/javascript&#34; src=&#34;https://cdn.jsdelivr.net/npm/vue@3&#34;&gt;&lt;/script&gt;\n",
       "&lt;!-- Download Circuit Renderer with styles --&gt;\n",
       "&lt;script type=&#34;application/javascript&#34; src=&#34;https://unpkg.com/pytket-circuit-renderer@0.6/dist/pytket-circuit-renderer.umd.js&#34;&gt;&lt;/script&gt;\n",
       "&lt;link rel=&#34;stylesheet&#34; href=&#34;https://unpkg.com/pytket-circuit-renderer@0.6/dist/pytket-circuit-renderer.css&#34;&gt;\n",
       "&lt;/head&gt;\n",
       "&lt;body&gt;\n",
       "\n",
       "\n",
       "\n",
       "    &lt;div id=&#34;circuit-display-vue-container-2454112b-2ffa-4739-9d75-10bde71fcbde&#34; class=&#34;pytket-circuit-display-container&#34;&gt;\n",
       "        &lt;div style=&#34;display: none&#34;&gt;\n",
       "            &lt;div id=&#34;circuit-json-to-display&#34;&gt;{&#34;bits&#34;: [], &#34;commands&#34;: [{&#34;args&#34;: [[&#34;q&#34;, [1]]], &#34;op&#34;: {&#34;type&#34;: &#34;X&#34;}}, {&#34;args&#34;: [[&#34;q&#34;, [3]]], &#34;op&#34;: {&#34;type&#34;: &#34;X&#34;}}, {&#34;args&#34;: [[&#34;q&#34;, [0]], [&#34;q&#34;, [1]], [&#34;q&#34;, [2]], [&#34;q&#34;, [3]]], &#34;op&#34;: {&#34;box&#34;: {&#34;circuit&#34;: {&#34;bits&#34;: [], &#34;commands&#34;: [{&#34;args&#34;: [[&#34;q&#34;, [0]]], &#34;op&#34;: {&#34;box&#34;: {&#34;id&#34;: &#34;6a013c7b-bcc8-423d-b84a-9fed6073befd&#34;, &#34;paulis&#34;: [&#34;Z&#34;], &#34;phase&#34;: &#34;0.2&#34;, &#34;type&#34;: &#34;PauliExpBox&#34;}, &#34;type&#34;: &#34;PauliExpBox&#34;}}], &#34;created_qubits&#34;: [], &#34;discarded_qubits&#34;: [], &#34;implicit_permutation&#34;: [[[&#34;q&#34;, [0]], [&#34;q&#34;, [0]]], [[&#34;q&#34;, [1]], [&#34;q&#34;, [1]]], [[&#34;q&#34;, [2]], [&#34;q&#34;, [2]]], [[&#34;q&#34;, [3]], [&#34;q&#34;, [3]]]], &#34;phase&#34;: &#34;0.0&#34;, &#34;qubits&#34;: [[&#34;q&#34;, [0]], [&#34;q&#34;, [1]], [&#34;q&#34;, [2]], [&#34;q&#34;, [3]]]}, &#34;id&#34;: &#34;2222bf12-b5dc-435a-a114-6b95481a8f25&#34;, &#34;type&#34;: &#34;CircBox&#34;}, &#34;type&#34;: &#34;CircBox&#34;}}, {&#34;args&#34;: [[&#34;q&#34;, [0]], [&#34;q&#34;, [1]], [&#34;q&#34;, [2]], [&#34;q&#34;, [3]]], &#34;op&#34;: {&#34;box&#34;: {&#34;circuit&#34;: {&#34;bits&#34;: [], &#34;commands&#34;: [{&#34;args&#34;: [[&#34;q&#34;, [0]], [&#34;q&#34;, [1]], [&#34;q&#34;, [2]], [&#34;q&#34;, [3]]], &#34;op&#34;: {&#34;box&#34;: {&#34;id&#34;: &#34;1bbaec48-9779-497f-ae68-2043226b4e04&#34;, &#34;paulis&#34;: [&#34;Y&#34;, &#34;Z&#34;, &#34;X&#34;, &#34;X&#34;], &#34;phase&#34;: &#34;0.4&#34;, &#34;type&#34;: &#34;PauliExpBox&#34;}, &#34;type&#34;: &#34;PauliExpBox&#34;}}, {&#34;args&#34;: [[&#34;q&#34;, [0]], [&#34;q&#34;, [1]]], &#34;op&#34;: {&#34;box&#34;: {&#34;id&#34;: &#34;1081b1b5-dbb8-46a7-ab7b-5304fc9e50e9&#34;, &#34;paulis&#34;: [&#34;X&#34;, &#34;X&#34;], &#34;phase&#34;: &#34;0.2&#34;, &#34;type&#34;: &#34;PauliExpBox&#34;}, &#34;type&#34;: &#34;PauliExpBox&#34;}}], &#34;created_qubits&#34;: [], &#34;discarded_qubits&#34;: [], &#34;implicit_permutation&#34;: [[[&#34;q&#34;, [0]], [&#34;q&#34;, [0]]], [[&#34;q&#34;, [1]], [&#34;q&#34;, [1]]], [[&#34;q&#34;, [2]], [&#34;q&#34;, [2]]], [[&#34;q&#34;, [3]], [&#34;q&#34;, [3]]]], &#34;phase&#34;: &#34;0.0&#34;, &#34;qubits&#34;: [[&#34;q&#34;, [0]], [&#34;q&#34;, [1]], [&#34;q&#34;, [2]], [&#34;q&#34;, [3]]]}, &#34;id&#34;: &#34;b4d04479-ccfd-4c14-8f67-f3e71f1c9b34&#34;, &#34;type&#34;: &#34;CircBox&#34;}, &#34;type&#34;: &#34;CircBox&#34;}}, {&#34;args&#34;: [[&#34;q&#34;, [1]]], &#34;op&#34;: {&#34;type&#34;: &#34;X&#34;}}, {&#34;args&#34;: [[&#34;q&#34;, [3]]], &#34;op&#34;: {&#34;type&#34;: &#34;X&#34;}}, {&#34;args&#34;: [[&#34;q&#34;, [0]], [&#34;q&#34;, [1]], [&#34;q&#34;, [2]], [&#34;q&#34;, [3]]], &#34;op&#34;: {&#34;box&#34;: {&#34;circuit&#34;: {&#34;bits&#34;: [], &#34;commands&#34;: [{&#34;args&#34;: [[&#34;q&#34;, [0]]], &#34;op&#34;: {&#34;box&#34;: {&#34;id&#34;: &#34;6a013c7b-bcc8-423d-b84a-9fed6073befd&#34;, &#34;paulis&#34;: [&#34;Z&#34;], &#34;phase&#34;: &#34;0.2&#34;, &#34;type&#34;: &#34;PauliExpBox&#34;}, &#34;type&#34;: &#34;PauliExpBox&#34;}}], &#34;created_qubits&#34;: [], &#34;discarded_qubits&#34;: [], &#34;implicit_permutation&#34;: [[[&#34;q&#34;, [0]], [&#34;q&#34;, [0]]], [[&#34;q&#34;, [1]], [&#34;q&#34;, [1]]], [[&#34;q&#34;, [2]], [&#34;q&#34;, [2]]], [[&#34;q&#34;, [3]], [&#34;q&#34;, [3]]]], &#34;phase&#34;: &#34;0.0&#34;, &#34;qubits&#34;: [[&#34;q&#34;, [0]], [&#34;q&#34;, [1]], [&#34;q&#34;, [2]], [&#34;q&#34;, [3]]]}, &#34;id&#34;: &#34;2222bf12-b5dc-435a-a114-6b95481a8f25&#34;, &#34;type&#34;: &#34;CircBox&#34;}, &#34;type&#34;: &#34;CircBox&#34;}}, {&#34;args&#34;: [[&#34;q&#34;, [0]], [&#34;q&#34;, [1]], [&#34;q&#34;, [2]], [&#34;q&#34;, [3]]], &#34;op&#34;: {&#34;box&#34;: {&#34;circuit&#34;: {&#34;bits&#34;: [], &#34;commands&#34;: [{&#34;args&#34;: [[&#34;q&#34;, [0]], [&#34;q&#34;, [1]], [&#34;q&#34;, [2]], [&#34;q&#34;, [3]]], &#34;op&#34;: {&#34;box&#34;: {&#34;id&#34;: &#34;1bbaec48-9779-497f-ae68-2043226b4e04&#34;, &#34;paulis&#34;: [&#34;Y&#34;, &#34;Z&#34;, &#34;X&#34;, &#34;X&#34;], &#34;phase&#34;: &#34;0.4&#34;, &#34;type&#34;: &#34;PauliExpBox&#34;}, &#34;type&#34;: &#34;PauliExpBox&#34;}}, {&#34;args&#34;: [[&#34;q&#34;, [0]], [&#34;q&#34;, [1]]], &#34;op&#34;: {&#34;box&#34;: {&#34;id&#34;: &#34;1081b1b5-dbb8-46a7-ab7b-5304fc9e50e9&#34;, &#34;paulis&#34;: [&#34;X&#34;, &#34;X&#34;], &#34;phase&#34;: &#34;0.2&#34;, &#34;type&#34;: &#34;PauliExpBox&#34;}, &#34;type&#34;: &#34;PauliExpBox&#34;}}], &#34;created_qubits&#34;: [], &#34;discarded_qubits&#34;: [], &#34;implicit_permutation&#34;: [[[&#34;q&#34;, [0]], [&#34;q&#34;, [0]]], [[&#34;q&#34;, [1]], [&#34;q&#34;, [1]]], [[&#34;q&#34;, [2]], [&#34;q&#34;, [2]]], [[&#34;q&#34;, [3]], [&#34;q&#34;, [3]]]], &#34;phase&#34;: &#34;0.0&#34;, &#34;qubits&#34;: [[&#34;q&#34;, [0]], [&#34;q&#34;, [1]], [&#34;q&#34;, [2]], [&#34;q&#34;, [3]]]}, &#34;id&#34;: &#34;b4d04479-ccfd-4c14-8f67-f3e71f1c9b34&#34;, &#34;type&#34;: &#34;CircBox&#34;}, &#34;type&#34;: &#34;CircBox&#34;}}], &#34;created_qubits&#34;: [], &#34;discarded_qubits&#34;: [], &#34;implicit_permutation&#34;: [[[&#34;q&#34;, [0]], [&#34;q&#34;, [0]]], [[&#34;q&#34;, [1]], [&#34;q&#34;, [1]]], [[&#34;q&#34;, [2]], [&#34;q&#34;, [2]]], [[&#34;q&#34;, [3]], [&#34;q&#34;, [3]]]], &#34;phase&#34;: &#34;0.0&#34;, &#34;qubits&#34;: [[&#34;q&#34;, [0]], [&#34;q&#34;, [1]], [&#34;q&#34;, [2]], [&#34;q&#34;, [3]]]}&lt;/div&gt;\n",
       "        &lt;/div&gt;\n",
       "        &lt;circuit-display-container\n",
       "                :circuit-element-str=&#34;&#39;#circuit-json-to-display&#39;&#34;\n",
       "                :init-render-options=&#34;initRenderOptions&#34;\n",
       "        &gt;&lt;/circuit-display-container&gt;\n",
       "    &lt;/div&gt;\n",
       "    &lt;script type=&#34;application/javascript&#34;&gt;\n",
       "      const circuitRendererUid = &#34;2454112b-2ffa-4739-9d75-10bde71fcbde&#34;;\n",
       "      const displayOptions = JSON.parse(&#39;{}&#39;);\n",
       "\n",
       "      // Script to initialise the circuit renderer app\n",
       "\n",
       "const { createApp } = Vue;\n",
       "const circuitDisplayContainer = window[&#34;pytket-circuit-renderer&#34;].default;\n",
       "// Init variables to be shared between circuit display instances\n",
       "if (typeof window.pytketCircuitDisplays === &#34;undefined&#34;) {\n",
       "    window.pytketCircuitDisplays = {};\n",
       "}\n",
       "// Create the root Vue component\n",
       "const app = createApp({\n",
       "    delimiters: [&#39;[[#&#39;, &#39;#]]&#39;],\n",
       "    components: { circuitDisplayContainer },\n",
       "    data () {\n",
       "      return {\n",
       "        initRenderOptions: displayOptions,\n",
       "      }\n",
       "    }\n",
       "})\n",
       "app.config.unwrapInjectedRef = true;\n",
       "app.mount(&#34;#circuit-display-vue-container-&#34;+circuitRendererUid);\n",
       "window.pytketCircuitDisplays[circuitRendererUid] = app;\n",
       "    &lt;/script&gt;\n",
       "\n",
       "\n",
       "\n",
       "&lt;/body&gt;\n",
       "&lt;/html&gt;\n",
       "\"\n",
       "            width=\"100%\" height=\"100%\"\n",
       "            style=\"border: none; outline: none; overflow: auto\"></iframe>\n",
       "</div>\n",
       "\n"
      ],
      "text/plain": [
       "<IPython.core.display.HTML object>"
      ]
     },
     "metadata": {},
     "output_type": "display_data"
    }
   ],
   "source": [
    "from pytket.circuit.display import render_circuit_jupyter\n",
    "render_circuit_jupyter(ansatz_circuit)"
   ]
  },
  {
   "cell_type": "code",
   "execution_count": 10,
   "metadata": {},
   "outputs": [
    {
     "name": "stdout",
     "output_type": "stream",
     "text": [
      "Native gate: X q[1];\n",
      "Native gate: X q[3];\n",
      "New CircBox:\n",
      " PauliExpBox q[0]; [<Pauli.Z: 3>] 0.1\n",
      "New CircBox:\n",
      " PauliExpBox q[0], q[1], q[2], q[3]; [<Pauli.Y: 2>, <Pauli.Z: 3>, <Pauli.X: 1>, <Pauli.X: 1>] 0.4\n",
      " PauliExpBox q[0], q[1]; [<Pauli.X: 1>, <Pauli.X: 1>] 0.2\n"
     ]
    }
   ],
   "source": [
    "from pytket.circuit import OpType\n",
    "for command in ansatz_circuit:\n",
    "    if command.op.type == OpType.CircBox:\n",
    "        print(\"New CircBox:\")\n",
    "        for pauli_exp in command.op.get_circuit():\n",
    "            print(\n",
    "                \" {} {} {}\".format(\n",
    "                    pauli_exp, pauli_exp.op.get_paulis(), pauli_exp.op.get_phase()\n",
    "                )\n",
    "            )\n",
    "    else:\n",
    "        print(\"Native gate: {}\".format(command))"
   ]
  },
  {
   "cell_type": "code",
   "execution_count": 92,
   "metadata": {},
   "outputs": [
    {
     "data": {
      "text/plain": [
       "{(Xq[0], Xq[1]): 0.200000000000000, (Yq[0], Zq[1], Xq[2], Xq[3]): 0.400000000000000, (Zq[0]): 0.200000000000000}"
      ]
     },
     "execution_count": 92,
     "metadata": {},
     "output_type": "execute_result"
    }
   ],
   "source": [
    "QubitPauliOperator.from_list(hamiltonian.to_list()[::-1])"
   ]
  },
  {
   "cell_type": "code",
   "execution_count": 56,
   "metadata": {},
   "outputs": [],
   "source": [
    "hamiltonian.to_list()[0]['coefficient'][0] = 3"
   ]
  },
  {
   "cell_type": "code",
   "execution_count": 81,
   "metadata": {},
   "outputs": [
    {
     "data": {
      "text/plain": [
       "(Zq[0])"
      ]
     },
     "execution_count": 81,
     "metadata": {},
     "output_type": "execute_result"
    }
   ],
   "source": [
    "list(hamiltonian.__getstate__().keys())[0]"
   ]
  },
  {
   "cell_type": "code",
   "execution_count": 91,
   "metadata": {},
   "outputs": [],
   "source": [
    "hamiltonian.__setitem__(QubitPauliString([Qubit(0)], [Pauli.Z]),0.2)"
   ]
  },
  {
   "cell_type": "code",
   "execution_count": 15,
   "metadata": {},
   "outputs": [],
   "source": [
    "hamiltonium = QubitPauliOperator(\n",
    "    {\n",
    "        QubitPauliString([Qubit(0)], [Pauli.Z]): 0.1,\n",
    "        QubitPauliString([Qubit(1)], [Pauli.X]): 0.2,\n",
    "    }\n",
    ")"
   ]
  },
  {
   "cell_type": "code",
   "execution_count": 35,
   "metadata": {},
   "outputs": [
    {
     "data": {
      "text/plain": [
       "array([[ 0.1+0.j,  0.2+0.j,  0. +0.j,  0. +0.j],\n",
       "       [ 0.2+0.j,  0.1+0.j,  0. +0.j,  0. +0.j],\n",
       "       [ 0. +0.j,  0. +0.j, -0.1+0.j,  0.2+0.j],\n",
       "       [ 0. +0.j,  0. +0.j,  0.2+0.j, -0.1+0.j]])"
      ]
     },
     "execution_count": 35,
     "metadata": {},
     "output_type": "execute_result"
    }
   ],
   "source": [
    "hamiltonium.to_sparse_matrix(2).toarray()"
   ]
  },
  {
   "cell_type": "markdown",
   "metadata": {},
   "source": [
    "## Measurements\n",
    "- The operators to measure after each trotter step.\n",
    "- Here just tracking the <Z> measurements of each qubits"
   ]
  },
  {
   "cell_type": "code",
   "execution_count": 11,
   "metadata": {},
   "outputs": [],
   "source": [
    "measurements = [QubitPauliOperator({QubitPauliString([Qubit(i)], [Pauli.Z]): 1}) for i in range(initial_state_circ.n_qubits)]"
   ]
  },
  {
   "cell_type": "code",
   "execution_count": 21,
   "metadata": {},
   "outputs": [
    {
     "data": {
      "text/plain": [
       "{(Zq[0]): 1, (Zq[1]): 1.00000000000000, (Zq[2]): 1.00000000000000, (Zq[3]): 1.00000000000000}"
      ]
     },
     "execution_count": 21,
     "metadata": {},
     "output_type": "execute_result"
    }
   ],
   "source": []
  },
  {
   "cell_type": "code",
   "execution_count": 5,
   "metadata": {},
   "outputs": [],
   "source": [
    "t_max=20\n",
    "n_trotter_steps = 1000"
   ]
  },
  {
   "cell_type": "code",
   "execution_count": 6,
   "metadata": {},
   "outputs": [],
   "source": [
    "trotter_time_evolution = AlgorithmHamSimTrotterCheat(initial_state_circ,hamiltonian,measurements,t_max,n_trotter_steps)"
   ]
  },
  {
   "cell_type": "code",
   "execution_count": 11,
   "metadata": {},
   "outputs": [],
   "source": [
    "times = np.linspace(0.01, 20, 1000)\n",
    "# Ising chain model\n",
    "n = 4\n",
    "h = ['XXII', 'ZIII', 'YZXX', 'XXII']\n",
    "a = [1,-0.1,-0.4,-0.2]\n",
    "circuits_s_small = [trotter_time_evolution.suzuki_trotter(n, h, a, float(i), 2, 1) for i in times]"
   ]
  },
  {
   "cell_type": "code",
   "execution_count": 12,
   "metadata": {},
   "outputs": [],
   "source": [
    "p = trotter_time_evolution._circuit_evol(circuits_s_small)"
   ]
  },
  {
   "cell_type": "code",
   "execution_count": 27,
   "metadata": {},
   "outputs": [],
   "source": [
    "prob = [abs(np.vdot(circ.get_statevector(),circ.get_statevector())) for circ in circuits_s_small]"
   ]
  },
  {
   "cell_type": "code",
   "execution_count": 13,
   "metadata": {},
   "outputs": [
    {
     "data": {
      "text/plain": [
       "[<matplotlib.lines.Line2D at 0x14e97d7d0>]"
      ]
     },
     "execution_count": 13,
     "metadata": {},
     "output_type": "execute_result"
    },
    {
     "data": {
      "image/png": "[encoded data removed]",
      "text/plain": [
       "<Figure size 640x480 with 1 Axes>"
      ]
     },
     "metadata": {},
     "output_type": "display_data"
    }
   ],
   "source": [
    "plt.plot(times, p, label='Suzuki-order2')"
   ]
  },
  {
   "cell_type": "code",
   "execution_count": 23,
   "metadata": {},
   "outputs": [],
   "source": [
    "trotter_time_evolution.execute()"
   ]
  },
  {
   "cell_type": "markdown",
   "metadata": {},
   "source": [
    "## Dataframe\n",
    "- returns a pandas dataframe which has easy plotting and saving of data"
   ]
  },
  {
   "cell_type": "code",
   "execution_count": 24,
   "metadata": {},
   "outputs": [
    {
     "data": {
      "text/plain": [
       "<Axes: xlabel='Time'>"
      ]
     },
     "execution_count": 24,
     "metadata": {},
     "output_type": "execute_result"
    },
    {
     "data": {
      "image/png": "[encoded data removed]",
      "text/plain": [
       "<Figure size 640x480 with 1 Axes>"
      ]
     },
     "metadata": {},
     "output_type": "display_data"
    }
   ],
   "source": [
    "trotter_time_evolution.evolved_measuremets.plot()"
   ]
  },
  {
   "cell_type": "code",
   "execution_count": null,
   "metadata": {},
   "outputs": [],
   "source": []
  }
 ],
 "metadata": {
  "interpreter": {
   "hash": "b1ff4ef538e9ebccf178393e72096f075c8fb9c47bbb0e606799e1a7d6289001"
  },
  "kernelspec": {
   "display_name": "Python 3.9.5 64-bit ('eumen-dev': conda)",
   "language": "python",
   "name": "python3"
  },
  "language_info": {
   "codemirror_mode": {
    "name": "ipython",
    "version": 3
   },
   "file_extension": ".py",
   "mimetype": "text/x-python",
   "name": "python",
   "nbconvert_exporter": "python",
   "pygments_lexer": "ipython3",
   "version": "3.11.4"
  },
  "orig_nbformat": 4
 },
 "nbformat": 4,
 "nbformat_minor": 2
}
